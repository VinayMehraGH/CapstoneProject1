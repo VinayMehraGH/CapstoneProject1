{
 "cells": [
  {
   "cell_type": "markdown",
   "metadata": {},
   "source": [
    "# Wrangling of the BackOrder dataset\n",
    "****\n",
    "**Goal :** Prepare the backorder dataset for EDA and Modeling\n",
    "\n",
    "Tasks to be performed :\n",
    "+ Handling inconsistent column names and datatype\n",
    "+ Missing Data handling\n",
    "+ Removal of duplicate rows\n",
    "+ Handling columns with repeatitive values\n",
    "+ Handling the outliers\n",
    "+ Write the clean data into a new file for further steps\n",
    " ****\n",
    "\n",
    "+ Reference: https://www.kaggle.com/tiredgeek/predict-bo-trial\n",
    "\n",
    "+ Data source: https://www.kaggle.com/tiredgeek/predict-bo-trial\n"
   ]
  },
  {
   "cell_type": "code",
   "execution_count": 1,
   "metadata": {
    "collapsed": true
   },
   "outputs": [],
   "source": [
    "# Importing the packages\n",
    "import pandas as pd\n",
    "import numpy as np\n",
    "import matplotlib.pylab as plt\n",
    "import seaborn as sns\n",
    "from sklearn.linear_model import LinearRegression\n",
    "%matplotlib inline  "
   ]
  },
  {
   "cell_type": "code",
   "execution_count": 2,
   "metadata": {},
   "outputs": [
    {
     "name": "stderr",
     "output_type": "stream",
     "text": [
      "C:\\Users\\deepa\\Anaconda3\\lib\\site-packages\\IPython\\core\\interactiveshell.py:2717: DtypeWarning: Columns (0) have mixed types. Specify dtype option on import or set low_memory=False.\n",
      "  interactivity=interactivity, compiler=compiler, result=result)\n"
     ]
    }
   ],
   "source": [
    "df = pd.read_csv('../Backorder_train.csv')"
   ]
  },
  {
   "cell_type": "code",
   "execution_count": 3,
   "metadata": {},
   "outputs": [
    {
     "data": {
      "text/html": [
       "<div>\n",
       "<style>\n",
       "    .dataframe thead tr:only-child th {\n",
       "        text-align: right;\n",
       "    }\n",
       "\n",
       "    .dataframe thead th {\n",
       "        text-align: left;\n",
       "    }\n",
       "\n",
       "    .dataframe tbody tr th {\n",
       "        vertical-align: top;\n",
       "    }\n",
       "</style>\n",
       "<table border=\"1\" class=\"dataframe\">\n",
       "  <thead>\n",
       "    <tr style=\"text-align: right;\">\n",
       "      <th></th>\n",
       "      <th>sku</th>\n",
       "      <th>national_inv</th>\n",
       "      <th>lead_time</th>\n",
       "      <th>in_transit_qty</th>\n",
       "      <th>forecast_3_month</th>\n",
       "      <th>forecast_6_month</th>\n",
       "      <th>forecast_9_month</th>\n",
       "      <th>sales_1_month</th>\n",
       "      <th>sales_3_month</th>\n",
       "      <th>sales_6_month</th>\n",
       "      <th>...</th>\n",
       "      <th>pieces_past_due</th>\n",
       "      <th>perf_6_month_avg</th>\n",
       "      <th>perf_12_month_avg</th>\n",
       "      <th>local_bo_qty</th>\n",
       "      <th>deck_risk</th>\n",
       "      <th>oe_constraint</th>\n",
       "      <th>ppap_risk</th>\n",
       "      <th>stop_auto_buy</th>\n",
       "      <th>rev_stop</th>\n",
       "      <th>went_on_backorder</th>\n",
       "    </tr>\n",
       "  </thead>\n",
       "  <tbody>\n",
       "    <tr>\n",
       "      <th>0</th>\n",
       "      <td>1026827</td>\n",
       "      <td>0.0</td>\n",
       "      <td>NaN</td>\n",
       "      <td>0.0</td>\n",
       "      <td>0.0</td>\n",
       "      <td>0.0</td>\n",
       "      <td>0.0</td>\n",
       "      <td>0.0</td>\n",
       "      <td>0.0</td>\n",
       "      <td>0.0</td>\n",
       "      <td>...</td>\n",
       "      <td>0.0</td>\n",
       "      <td>-99.00</td>\n",
       "      <td>-99.00</td>\n",
       "      <td>0.0</td>\n",
       "      <td>No</td>\n",
       "      <td>No</td>\n",
       "      <td>No</td>\n",
       "      <td>Yes</td>\n",
       "      <td>No</td>\n",
       "      <td>No</td>\n",
       "    </tr>\n",
       "    <tr>\n",
       "      <th>1</th>\n",
       "      <td>1043384</td>\n",
       "      <td>2.0</td>\n",
       "      <td>9.0</td>\n",
       "      <td>0.0</td>\n",
       "      <td>0.0</td>\n",
       "      <td>0.0</td>\n",
       "      <td>0.0</td>\n",
       "      <td>0.0</td>\n",
       "      <td>0.0</td>\n",
       "      <td>0.0</td>\n",
       "      <td>...</td>\n",
       "      <td>0.0</td>\n",
       "      <td>0.99</td>\n",
       "      <td>0.99</td>\n",
       "      <td>0.0</td>\n",
       "      <td>No</td>\n",
       "      <td>No</td>\n",
       "      <td>No</td>\n",
       "      <td>Yes</td>\n",
       "      <td>No</td>\n",
       "      <td>No</td>\n",
       "    </tr>\n",
       "    <tr>\n",
       "      <th>2</th>\n",
       "      <td>1043696</td>\n",
       "      <td>2.0</td>\n",
       "      <td>NaN</td>\n",
       "      <td>0.0</td>\n",
       "      <td>0.0</td>\n",
       "      <td>0.0</td>\n",
       "      <td>0.0</td>\n",
       "      <td>0.0</td>\n",
       "      <td>0.0</td>\n",
       "      <td>0.0</td>\n",
       "      <td>...</td>\n",
       "      <td>0.0</td>\n",
       "      <td>-99.00</td>\n",
       "      <td>-99.00</td>\n",
       "      <td>0.0</td>\n",
       "      <td>Yes</td>\n",
       "      <td>No</td>\n",
       "      <td>No</td>\n",
       "      <td>Yes</td>\n",
       "      <td>No</td>\n",
       "      <td>No</td>\n",
       "    </tr>\n",
       "    <tr>\n",
       "      <th>3</th>\n",
       "      <td>1043852</td>\n",
       "      <td>7.0</td>\n",
       "      <td>8.0</td>\n",
       "      <td>0.0</td>\n",
       "      <td>0.0</td>\n",
       "      <td>0.0</td>\n",
       "      <td>0.0</td>\n",
       "      <td>0.0</td>\n",
       "      <td>0.0</td>\n",
       "      <td>0.0</td>\n",
       "      <td>...</td>\n",
       "      <td>0.0</td>\n",
       "      <td>0.10</td>\n",
       "      <td>0.13</td>\n",
       "      <td>0.0</td>\n",
       "      <td>No</td>\n",
       "      <td>No</td>\n",
       "      <td>No</td>\n",
       "      <td>Yes</td>\n",
       "      <td>No</td>\n",
       "      <td>No</td>\n",
       "    </tr>\n",
       "    <tr>\n",
       "      <th>4</th>\n",
       "      <td>1044048</td>\n",
       "      <td>8.0</td>\n",
       "      <td>NaN</td>\n",
       "      <td>0.0</td>\n",
       "      <td>0.0</td>\n",
       "      <td>0.0</td>\n",
       "      <td>0.0</td>\n",
       "      <td>0.0</td>\n",
       "      <td>0.0</td>\n",
       "      <td>0.0</td>\n",
       "      <td>...</td>\n",
       "      <td>0.0</td>\n",
       "      <td>-99.00</td>\n",
       "      <td>-99.00</td>\n",
       "      <td>0.0</td>\n",
       "      <td>Yes</td>\n",
       "      <td>No</td>\n",
       "      <td>No</td>\n",
       "      <td>Yes</td>\n",
       "      <td>No</td>\n",
       "      <td>No</td>\n",
       "    </tr>\n",
       "  </tbody>\n",
       "</table>\n",
       "<p>5 rows × 23 columns</p>\n",
       "</div>"
      ],
      "text/plain": [
       "       sku  national_inv  lead_time  in_transit_qty  forecast_3_month  \\\n",
       "0  1026827           0.0        NaN             0.0               0.0   \n",
       "1  1043384           2.0        9.0             0.0               0.0   \n",
       "2  1043696           2.0        NaN             0.0               0.0   \n",
       "3  1043852           7.0        8.0             0.0               0.0   \n",
       "4  1044048           8.0        NaN             0.0               0.0   \n",
       "\n",
       "   forecast_6_month  forecast_9_month  sales_1_month  sales_3_month  \\\n",
       "0               0.0               0.0            0.0            0.0   \n",
       "1               0.0               0.0            0.0            0.0   \n",
       "2               0.0               0.0            0.0            0.0   \n",
       "3               0.0               0.0            0.0            0.0   \n",
       "4               0.0               0.0            0.0            0.0   \n",
       "\n",
       "   sales_6_month        ...         pieces_past_due  perf_6_month_avg  \\\n",
       "0            0.0        ...                     0.0            -99.00   \n",
       "1            0.0        ...                     0.0              0.99   \n",
       "2            0.0        ...                     0.0            -99.00   \n",
       "3            0.0        ...                     0.0              0.10   \n",
       "4            0.0        ...                     0.0            -99.00   \n",
       "\n",
       "  perf_12_month_avg  local_bo_qty  deck_risk  oe_constraint  ppap_risk  \\\n",
       "0            -99.00           0.0         No             No         No   \n",
       "1              0.99           0.0         No             No         No   \n",
       "2            -99.00           0.0        Yes             No         No   \n",
       "3              0.13           0.0         No             No         No   \n",
       "4            -99.00           0.0        Yes             No         No   \n",
       "\n",
       "  stop_auto_buy rev_stop went_on_backorder  \n",
       "0           Yes       No                No  \n",
       "1           Yes       No                No  \n",
       "2           Yes       No                No  \n",
       "3           Yes       No                No  \n",
       "4           Yes       No                No  \n",
       "\n",
       "[5 rows x 23 columns]"
      ]
     },
     "execution_count": 3,
     "metadata": {},
     "output_type": "execute_result"
    }
   ],
   "source": [
    "df.head()"
   ]
  },
  {
   "cell_type": "code",
   "execution_count": 4,
   "metadata": {},
   "outputs": [
    {
     "data": {
      "text/plain": [
       "(1687861, 23)"
      ]
     },
     "execution_count": 4,
     "metadata": {},
     "output_type": "execute_result"
    }
   ],
   "source": [
    "df.shape"
   ]
  },
  {
   "cell_type": "code",
   "execution_count": 5,
   "metadata": {},
   "outputs": [
    {
     "name": "stdout",
     "output_type": "stream",
     "text": [
      "<class 'pandas.core.frame.DataFrame'>\n",
      "RangeIndex: 1687861 entries, 0 to 1687860\n",
      "Data columns (total 23 columns):\n",
      "sku                  1687861 non-null object\n",
      "national_inv         1687860 non-null float64\n",
      "lead_time            1586967 non-null float64\n",
      "in_transit_qty       1687860 non-null float64\n",
      "forecast_3_month     1687860 non-null float64\n",
      "forecast_6_month     1687860 non-null float64\n",
      "forecast_9_month     1687860 non-null float64\n",
      "sales_1_month        1687860 non-null float64\n",
      "sales_3_month        1687860 non-null float64\n",
      "sales_6_month        1687860 non-null float64\n",
      "sales_9_month        1687860 non-null float64\n",
      "min_bank             1687860 non-null float64\n",
      "potential_issue      1687860 non-null object\n",
      "pieces_past_due      1687860 non-null float64\n",
      "perf_6_month_avg     1687860 non-null float64\n",
      "perf_12_month_avg    1687860 non-null float64\n",
      "local_bo_qty         1687860 non-null float64\n",
      "deck_risk            1687860 non-null object\n",
      "oe_constraint        1687860 non-null object\n",
      "ppap_risk            1687860 non-null object\n",
      "stop_auto_buy        1687860 non-null object\n",
      "rev_stop             1687860 non-null object\n",
      "went_on_backorder    1687860 non-null object\n",
      "dtypes: float64(15), object(8)\n",
      "memory usage: 296.2+ MB\n"
     ]
    }
   ],
   "source": [
    "df.info()"
   ]
  },
  {
   "cell_type": "markdown",
   "metadata": {},
   "source": [
    "It looks like there are some columns with mixed data types (as also evident from the pandas warning while loading csv). We will need to identify and clean them up.\n",
    "Some of the column names also need to be changed for better readability.\n"
   ]
  },
  {
   "cell_type": "code",
   "execution_count": 6,
   "metadata": {
    "collapsed": true
   },
   "outputs": [],
   "source": [
    "# Renaming columns\n",
    "new_column_names =['product_id','current_inventory', 'transit_duration', 'transit_quantity',\n",
    "                   'forecast_sales_3_months', 'forecast_sales_6_months', 'forecast_sales_9_months',\n",
    "                   'prior_sales_1_month', 'prior_sales_3_month', 'prior_sales_6_month',\n",
    "                   'prior_sales_9_month', 'minimum_recommended_stock', 'source_has_issue',\n",
    "                   'source_overdue', 'source_performance_6_months', 'source_performance_12_months',\n",
    "                   'stock_overdue', 'deck_risk', 'oe_constraint', 'ppap_risk', 'stop_auto_buy',\n",
    "                   'rev_stop', 'went_on_backorder']\n",
    "\n",
    "df.columns = new_column_names"
   ]
  },
  {
   "cell_type": "code",
   "execution_count": 7,
   "metadata": {},
   "outputs": [
    {
     "data": {
      "text/html": [
       "<div>\n",
       "<style>\n",
       "    .dataframe thead tr:only-child th {\n",
       "        text-align: right;\n",
       "    }\n",
       "\n",
       "    .dataframe thead th {\n",
       "        text-align: left;\n",
       "    }\n",
       "\n",
       "    .dataframe tbody tr th {\n",
       "        vertical-align: top;\n",
       "    }\n",
       "</style>\n",
       "<table border=\"1\" class=\"dataframe\">\n",
       "  <thead>\n",
       "    <tr style=\"text-align: right;\">\n",
       "      <th></th>\n",
       "      <th>product_id</th>\n",
       "      <th>current_inventory</th>\n",
       "      <th>transit_duration</th>\n",
       "      <th>transit_quantity</th>\n",
       "      <th>forecast_sales_3_months</th>\n",
       "      <th>forecast_sales_6_months</th>\n",
       "      <th>forecast_sales_9_months</th>\n",
       "      <th>prior_sales_1_month</th>\n",
       "      <th>prior_sales_3_month</th>\n",
       "      <th>prior_sales_6_month</th>\n",
       "      <th>...</th>\n",
       "      <th>source_overdue</th>\n",
       "      <th>source_performance_6_months</th>\n",
       "      <th>source_performance_12_months</th>\n",
       "      <th>stock_overdue</th>\n",
       "      <th>deck_risk</th>\n",
       "      <th>oe_constraint</th>\n",
       "      <th>ppap_risk</th>\n",
       "      <th>stop_auto_buy</th>\n",
       "      <th>rev_stop</th>\n",
       "      <th>went_on_backorder</th>\n",
       "    </tr>\n",
       "  </thead>\n",
       "  <tbody>\n",
       "    <tr>\n",
       "      <th>0</th>\n",
       "      <td>1026827</td>\n",
       "      <td>0.0</td>\n",
       "      <td>NaN</td>\n",
       "      <td>0.0</td>\n",
       "      <td>0.0</td>\n",
       "      <td>0.0</td>\n",
       "      <td>0.0</td>\n",
       "      <td>0.0</td>\n",
       "      <td>0.0</td>\n",
       "      <td>0.0</td>\n",
       "      <td>...</td>\n",
       "      <td>0.0</td>\n",
       "      <td>-99.00</td>\n",
       "      <td>-99.00</td>\n",
       "      <td>0.0</td>\n",
       "      <td>No</td>\n",
       "      <td>No</td>\n",
       "      <td>No</td>\n",
       "      <td>Yes</td>\n",
       "      <td>No</td>\n",
       "      <td>No</td>\n",
       "    </tr>\n",
       "    <tr>\n",
       "      <th>1</th>\n",
       "      <td>1043384</td>\n",
       "      <td>2.0</td>\n",
       "      <td>9.0</td>\n",
       "      <td>0.0</td>\n",
       "      <td>0.0</td>\n",
       "      <td>0.0</td>\n",
       "      <td>0.0</td>\n",
       "      <td>0.0</td>\n",
       "      <td>0.0</td>\n",
       "      <td>0.0</td>\n",
       "      <td>...</td>\n",
       "      <td>0.0</td>\n",
       "      <td>0.99</td>\n",
       "      <td>0.99</td>\n",
       "      <td>0.0</td>\n",
       "      <td>No</td>\n",
       "      <td>No</td>\n",
       "      <td>No</td>\n",
       "      <td>Yes</td>\n",
       "      <td>No</td>\n",
       "      <td>No</td>\n",
       "    </tr>\n",
       "    <tr>\n",
       "      <th>2</th>\n",
       "      <td>1043696</td>\n",
       "      <td>2.0</td>\n",
       "      <td>NaN</td>\n",
       "      <td>0.0</td>\n",
       "      <td>0.0</td>\n",
       "      <td>0.0</td>\n",
       "      <td>0.0</td>\n",
       "      <td>0.0</td>\n",
       "      <td>0.0</td>\n",
       "      <td>0.0</td>\n",
       "      <td>...</td>\n",
       "      <td>0.0</td>\n",
       "      <td>-99.00</td>\n",
       "      <td>-99.00</td>\n",
       "      <td>0.0</td>\n",
       "      <td>Yes</td>\n",
       "      <td>No</td>\n",
       "      <td>No</td>\n",
       "      <td>Yes</td>\n",
       "      <td>No</td>\n",
       "      <td>No</td>\n",
       "    </tr>\n",
       "    <tr>\n",
       "      <th>3</th>\n",
       "      <td>1043852</td>\n",
       "      <td>7.0</td>\n",
       "      <td>8.0</td>\n",
       "      <td>0.0</td>\n",
       "      <td>0.0</td>\n",
       "      <td>0.0</td>\n",
       "      <td>0.0</td>\n",
       "      <td>0.0</td>\n",
       "      <td>0.0</td>\n",
       "      <td>0.0</td>\n",
       "      <td>...</td>\n",
       "      <td>0.0</td>\n",
       "      <td>0.10</td>\n",
       "      <td>0.13</td>\n",
       "      <td>0.0</td>\n",
       "      <td>No</td>\n",
       "      <td>No</td>\n",
       "      <td>No</td>\n",
       "      <td>Yes</td>\n",
       "      <td>No</td>\n",
       "      <td>No</td>\n",
       "    </tr>\n",
       "    <tr>\n",
       "      <th>4</th>\n",
       "      <td>1044048</td>\n",
       "      <td>8.0</td>\n",
       "      <td>NaN</td>\n",
       "      <td>0.0</td>\n",
       "      <td>0.0</td>\n",
       "      <td>0.0</td>\n",
       "      <td>0.0</td>\n",
       "      <td>0.0</td>\n",
       "      <td>0.0</td>\n",
       "      <td>0.0</td>\n",
       "      <td>...</td>\n",
       "      <td>0.0</td>\n",
       "      <td>-99.00</td>\n",
       "      <td>-99.00</td>\n",
       "      <td>0.0</td>\n",
       "      <td>Yes</td>\n",
       "      <td>No</td>\n",
       "      <td>No</td>\n",
       "      <td>Yes</td>\n",
       "      <td>No</td>\n",
       "      <td>No</td>\n",
       "    </tr>\n",
       "  </tbody>\n",
       "</table>\n",
       "<p>5 rows × 23 columns</p>\n",
       "</div>"
      ],
      "text/plain": [
       "  product_id  current_inventory  transit_duration  transit_quantity  \\\n",
       "0    1026827                0.0               NaN               0.0   \n",
       "1    1043384                2.0               9.0               0.0   \n",
       "2    1043696                2.0               NaN               0.0   \n",
       "3    1043852                7.0               8.0               0.0   \n",
       "4    1044048                8.0               NaN               0.0   \n",
       "\n",
       "   forecast_sales_3_months  forecast_sales_6_months  forecast_sales_9_months  \\\n",
       "0                      0.0                      0.0                      0.0   \n",
       "1                      0.0                      0.0                      0.0   \n",
       "2                      0.0                      0.0                      0.0   \n",
       "3                      0.0                      0.0                      0.0   \n",
       "4                      0.0                      0.0                      0.0   \n",
       "\n",
       "   prior_sales_1_month  prior_sales_3_month  prior_sales_6_month  \\\n",
       "0                  0.0                  0.0                  0.0   \n",
       "1                  0.0                  0.0                  0.0   \n",
       "2                  0.0                  0.0                  0.0   \n",
       "3                  0.0                  0.0                  0.0   \n",
       "4                  0.0                  0.0                  0.0   \n",
       "\n",
       "         ...         source_overdue  source_performance_6_months  \\\n",
       "0        ...                    0.0                       -99.00   \n",
       "1        ...                    0.0                         0.99   \n",
       "2        ...                    0.0                       -99.00   \n",
       "3        ...                    0.0                         0.10   \n",
       "4        ...                    0.0                       -99.00   \n",
       "\n",
       "  source_performance_12_months  stock_overdue  deck_risk  oe_constraint  \\\n",
       "0                       -99.00            0.0         No             No   \n",
       "1                         0.99            0.0         No             No   \n",
       "2                       -99.00            0.0        Yes             No   \n",
       "3                         0.13            0.0         No             No   \n",
       "4                       -99.00            0.0        Yes             No   \n",
       "\n",
       "   ppap_risk stop_auto_buy rev_stop went_on_backorder  \n",
       "0         No           Yes       No                No  \n",
       "1         No           Yes       No                No  \n",
       "2         No           Yes       No                No  \n",
       "3         No           Yes       No                No  \n",
       "4         No           Yes       No                No  \n",
       "\n",
       "[5 rows x 23 columns]"
      ]
     },
     "execution_count": 7,
     "metadata": {},
     "output_type": "execute_result"
    }
   ],
   "source": [
    "df.head()"
   ]
  },
  {
   "cell_type": "code",
   "execution_count": 8,
   "metadata": {},
   "outputs": [
    {
     "data": {
      "text/html": [
       "<div>\n",
       "<style>\n",
       "    .dataframe thead tr:only-child th {\n",
       "        text-align: right;\n",
       "    }\n",
       "\n",
       "    .dataframe thead th {\n",
       "        text-align: left;\n",
       "    }\n",
       "\n",
       "    .dataframe tbody tr th {\n",
       "        vertical-align: top;\n",
       "    }\n",
       "</style>\n",
       "<table border=\"1\" class=\"dataframe\">\n",
       "  <thead>\n",
       "    <tr style=\"text-align: right;\">\n",
       "      <th></th>\n",
       "      <th>current_inventory</th>\n",
       "      <th>transit_duration</th>\n",
       "      <th>transit_quantity</th>\n",
       "      <th>forecast_sales_3_months</th>\n",
       "      <th>forecast_sales_6_months</th>\n",
       "      <th>forecast_sales_9_months</th>\n",
       "      <th>prior_sales_1_month</th>\n",
       "      <th>prior_sales_3_month</th>\n",
       "      <th>prior_sales_6_month</th>\n",
       "      <th>prior_sales_9_month</th>\n",
       "      <th>minimum_recommended_stock</th>\n",
       "      <th>source_overdue</th>\n",
       "      <th>source_performance_6_months</th>\n",
       "      <th>source_performance_12_months</th>\n",
       "      <th>stock_overdue</th>\n",
       "    </tr>\n",
       "  </thead>\n",
       "  <tbody>\n",
       "    <tr>\n",
       "      <th>count</th>\n",
       "      <td>1.687860e+06</td>\n",
       "      <td>1.586967e+06</td>\n",
       "      <td>1.687860e+06</td>\n",
       "      <td>1.687860e+06</td>\n",
       "      <td>1.687860e+06</td>\n",
       "      <td>1.687860e+06</td>\n",
       "      <td>1.687860e+06</td>\n",
       "      <td>1.687860e+06</td>\n",
       "      <td>1.687860e+06</td>\n",
       "      <td>1.687860e+06</td>\n",
       "      <td>1.687860e+06</td>\n",
       "      <td>1.687860e+06</td>\n",
       "      <td>1.687860e+06</td>\n",
       "      <td>1.687860e+06</td>\n",
       "      <td>1.687860e+06</td>\n",
       "    </tr>\n",
       "    <tr>\n",
       "      <th>mean</th>\n",
       "      <td>4.961118e+02</td>\n",
       "      <td>7.872267e+00</td>\n",
       "      <td>4.405202e+01</td>\n",
       "      <td>1.781193e+02</td>\n",
       "      <td>3.449867e+02</td>\n",
       "      <td>5.063644e+02</td>\n",
       "      <td>5.592607e+01</td>\n",
       "      <td>1.750259e+02</td>\n",
       "      <td>3.417288e+02</td>\n",
       "      <td>5.252697e+02</td>\n",
       "      <td>5.277230e+01</td>\n",
       "      <td>2.043724e+00</td>\n",
       "      <td>-6.872059e+00</td>\n",
       "      <td>-6.437947e+00</td>\n",
       "      <td>6.264507e-01</td>\n",
       "    </tr>\n",
       "    <tr>\n",
       "      <th>std</th>\n",
       "      <td>2.961523e+04</td>\n",
       "      <td>7.056024e+00</td>\n",
       "      <td>1.342742e+03</td>\n",
       "      <td>5.026553e+03</td>\n",
       "      <td>9.795152e+03</td>\n",
       "      <td>1.437892e+04</td>\n",
       "      <td>1.928196e+03</td>\n",
       "      <td>5.192378e+03</td>\n",
       "      <td>9.613167e+03</td>\n",
       "      <td>1.483861e+04</td>\n",
       "      <td>1.254983e+03</td>\n",
       "      <td>2.360165e+02</td>\n",
       "      <td>2.655636e+01</td>\n",
       "      <td>2.584333e+01</td>\n",
       "      <td>3.372224e+01</td>\n",
       "    </tr>\n",
       "    <tr>\n",
       "      <th>min</th>\n",
       "      <td>-2.725600e+04</td>\n",
       "      <td>0.000000e+00</td>\n",
       "      <td>0.000000e+00</td>\n",
       "      <td>0.000000e+00</td>\n",
       "      <td>0.000000e+00</td>\n",
       "      <td>0.000000e+00</td>\n",
       "      <td>0.000000e+00</td>\n",
       "      <td>0.000000e+00</td>\n",
       "      <td>0.000000e+00</td>\n",
       "      <td>0.000000e+00</td>\n",
       "      <td>0.000000e+00</td>\n",
       "      <td>0.000000e+00</td>\n",
       "      <td>-9.900000e+01</td>\n",
       "      <td>-9.900000e+01</td>\n",
       "      <td>0.000000e+00</td>\n",
       "    </tr>\n",
       "    <tr>\n",
       "      <th>25%</th>\n",
       "      <td>4.000000e+00</td>\n",
       "      <td>4.000000e+00</td>\n",
       "      <td>0.000000e+00</td>\n",
       "      <td>0.000000e+00</td>\n",
       "      <td>0.000000e+00</td>\n",
       "      <td>0.000000e+00</td>\n",
       "      <td>0.000000e+00</td>\n",
       "      <td>0.000000e+00</td>\n",
       "      <td>0.000000e+00</td>\n",
       "      <td>0.000000e+00</td>\n",
       "      <td>0.000000e+00</td>\n",
       "      <td>0.000000e+00</td>\n",
       "      <td>6.300000e-01</td>\n",
       "      <td>6.600000e-01</td>\n",
       "      <td>0.000000e+00</td>\n",
       "    </tr>\n",
       "    <tr>\n",
       "      <th>50%</th>\n",
       "      <td>1.500000e+01</td>\n",
       "      <td>8.000000e+00</td>\n",
       "      <td>0.000000e+00</td>\n",
       "      <td>0.000000e+00</td>\n",
       "      <td>0.000000e+00</td>\n",
       "      <td>0.000000e+00</td>\n",
       "      <td>0.000000e+00</td>\n",
       "      <td>1.000000e+00</td>\n",
       "      <td>2.000000e+00</td>\n",
       "      <td>4.000000e+00</td>\n",
       "      <td>0.000000e+00</td>\n",
       "      <td>0.000000e+00</td>\n",
       "      <td>8.200000e-01</td>\n",
       "      <td>8.100000e-01</td>\n",
       "      <td>0.000000e+00</td>\n",
       "    </tr>\n",
       "    <tr>\n",
       "      <th>75%</th>\n",
       "      <td>8.000000e+01</td>\n",
       "      <td>9.000000e+00</td>\n",
       "      <td>0.000000e+00</td>\n",
       "      <td>4.000000e+00</td>\n",
       "      <td>1.200000e+01</td>\n",
       "      <td>2.000000e+01</td>\n",
       "      <td>4.000000e+00</td>\n",
       "      <td>1.500000e+01</td>\n",
       "      <td>3.100000e+01</td>\n",
       "      <td>4.700000e+01</td>\n",
       "      <td>3.000000e+00</td>\n",
       "      <td>0.000000e+00</td>\n",
       "      <td>9.700000e-01</td>\n",
       "      <td>9.500000e-01</td>\n",
       "      <td>0.000000e+00</td>\n",
       "    </tr>\n",
       "    <tr>\n",
       "      <th>max</th>\n",
       "      <td>1.233440e+07</td>\n",
       "      <td>5.200000e+01</td>\n",
       "      <td>4.894080e+05</td>\n",
       "      <td>1.427612e+06</td>\n",
       "      <td>2.461360e+06</td>\n",
       "      <td>3.777304e+06</td>\n",
       "      <td>7.417740e+05</td>\n",
       "      <td>1.105478e+06</td>\n",
       "      <td>2.146625e+06</td>\n",
       "      <td>3.205172e+06</td>\n",
       "      <td>3.133190e+05</td>\n",
       "      <td>1.464960e+05</td>\n",
       "      <td>1.000000e+00</td>\n",
       "      <td>1.000000e+00</td>\n",
       "      <td>1.253000e+04</td>\n",
       "    </tr>\n",
       "  </tbody>\n",
       "</table>\n",
       "</div>"
      ],
      "text/plain": [
       "       current_inventory  transit_duration  transit_quantity  \\\n",
       "count       1.687860e+06      1.586967e+06      1.687860e+06   \n",
       "mean        4.961118e+02      7.872267e+00      4.405202e+01   \n",
       "std         2.961523e+04      7.056024e+00      1.342742e+03   \n",
       "min        -2.725600e+04      0.000000e+00      0.000000e+00   \n",
       "25%         4.000000e+00      4.000000e+00      0.000000e+00   \n",
       "50%         1.500000e+01      8.000000e+00      0.000000e+00   \n",
       "75%         8.000000e+01      9.000000e+00      0.000000e+00   \n",
       "max         1.233440e+07      5.200000e+01      4.894080e+05   \n",
       "\n",
       "       forecast_sales_3_months  forecast_sales_6_months  \\\n",
       "count             1.687860e+06             1.687860e+06   \n",
       "mean              1.781193e+02             3.449867e+02   \n",
       "std               5.026553e+03             9.795152e+03   \n",
       "min               0.000000e+00             0.000000e+00   \n",
       "25%               0.000000e+00             0.000000e+00   \n",
       "50%               0.000000e+00             0.000000e+00   \n",
       "75%               4.000000e+00             1.200000e+01   \n",
       "max               1.427612e+06             2.461360e+06   \n",
       "\n",
       "       forecast_sales_9_months  prior_sales_1_month  prior_sales_3_month  \\\n",
       "count             1.687860e+06         1.687860e+06         1.687860e+06   \n",
       "mean              5.063644e+02         5.592607e+01         1.750259e+02   \n",
       "std               1.437892e+04         1.928196e+03         5.192378e+03   \n",
       "min               0.000000e+00         0.000000e+00         0.000000e+00   \n",
       "25%               0.000000e+00         0.000000e+00         0.000000e+00   \n",
       "50%               0.000000e+00         0.000000e+00         1.000000e+00   \n",
       "75%               2.000000e+01         4.000000e+00         1.500000e+01   \n",
       "max               3.777304e+06         7.417740e+05         1.105478e+06   \n",
       "\n",
       "       prior_sales_6_month  prior_sales_9_month  minimum_recommended_stock  \\\n",
       "count         1.687860e+06         1.687860e+06               1.687860e+06   \n",
       "mean          3.417288e+02         5.252697e+02               5.277230e+01   \n",
       "std           9.613167e+03         1.483861e+04               1.254983e+03   \n",
       "min           0.000000e+00         0.000000e+00               0.000000e+00   \n",
       "25%           0.000000e+00         0.000000e+00               0.000000e+00   \n",
       "50%           2.000000e+00         4.000000e+00               0.000000e+00   \n",
       "75%           3.100000e+01         4.700000e+01               3.000000e+00   \n",
       "max           2.146625e+06         3.205172e+06               3.133190e+05   \n",
       "\n",
       "       source_overdue  source_performance_6_months  \\\n",
       "count    1.687860e+06                 1.687860e+06   \n",
       "mean     2.043724e+00                -6.872059e+00   \n",
       "std      2.360165e+02                 2.655636e+01   \n",
       "min      0.000000e+00                -9.900000e+01   \n",
       "25%      0.000000e+00                 6.300000e-01   \n",
       "50%      0.000000e+00                 8.200000e-01   \n",
       "75%      0.000000e+00                 9.700000e-01   \n",
       "max      1.464960e+05                 1.000000e+00   \n",
       "\n",
       "       source_performance_12_months  stock_overdue  \n",
       "count                  1.687860e+06   1.687860e+06  \n",
       "mean                  -6.437947e+00   6.264507e-01  \n",
       "std                    2.584333e+01   3.372224e+01  \n",
       "min                   -9.900000e+01   0.000000e+00  \n",
       "25%                    6.600000e-01   0.000000e+00  \n",
       "50%                    8.100000e-01   0.000000e+00  \n",
       "75%                    9.500000e-01   0.000000e+00  \n",
       "max                    1.000000e+00   1.253000e+04  "
      ]
     },
     "execution_count": 8,
     "metadata": {},
     "output_type": "execute_result"
    }
   ],
   "source": [
    "df.describe()"
   ]
  },
  {
   "cell_type": "code",
   "execution_count": 9,
   "metadata": {},
   "outputs": [
    {
     "data": {
      "text/html": [
       "<div>\n",
       "<style>\n",
       "    .dataframe thead tr:only-child th {\n",
       "        text-align: right;\n",
       "    }\n",
       "\n",
       "    .dataframe thead th {\n",
       "        text-align: left;\n",
       "    }\n",
       "\n",
       "    .dataframe tbody tr th {\n",
       "        vertical-align: top;\n",
       "    }\n",
       "</style>\n",
       "<table border=\"1\" class=\"dataframe\">\n",
       "  <thead>\n",
       "    <tr style=\"text-align: right;\">\n",
       "      <th></th>\n",
       "      <th>product_id</th>\n",
       "      <th>source_has_issue</th>\n",
       "      <th>deck_risk</th>\n",
       "      <th>oe_constraint</th>\n",
       "      <th>ppap_risk</th>\n",
       "      <th>stop_auto_buy</th>\n",
       "      <th>rev_stop</th>\n",
       "      <th>went_on_backorder</th>\n",
       "    </tr>\n",
       "  </thead>\n",
       "  <tbody>\n",
       "    <tr>\n",
       "      <th>count</th>\n",
       "      <td>1687861</td>\n",
       "      <td>1687860</td>\n",
       "      <td>1687860</td>\n",
       "      <td>1687860</td>\n",
       "      <td>1687860</td>\n",
       "      <td>1687860</td>\n",
       "      <td>1687860</td>\n",
       "      <td>1687860</td>\n",
       "    </tr>\n",
       "    <tr>\n",
       "      <th>unique</th>\n",
       "      <td>1687861</td>\n",
       "      <td>2</td>\n",
       "      <td>2</td>\n",
       "      <td>2</td>\n",
       "      <td>2</td>\n",
       "      <td>2</td>\n",
       "      <td>2</td>\n",
       "      <td>2</td>\n",
       "    </tr>\n",
       "    <tr>\n",
       "      <th>top</th>\n",
       "      <td>3277249</td>\n",
       "      <td>No</td>\n",
       "      <td>No</td>\n",
       "      <td>No</td>\n",
       "      <td>No</td>\n",
       "      <td>Yes</td>\n",
       "      <td>No</td>\n",
       "      <td>No</td>\n",
       "    </tr>\n",
       "    <tr>\n",
       "      <th>freq</th>\n",
       "      <td>1</td>\n",
       "      <td>1686953</td>\n",
       "      <td>1300377</td>\n",
       "      <td>1687615</td>\n",
       "      <td>1484026</td>\n",
       "      <td>1626774</td>\n",
       "      <td>1687129</td>\n",
       "      <td>1676567</td>\n",
       "    </tr>\n",
       "  </tbody>\n",
       "</table>\n",
       "</div>"
      ],
      "text/plain": [
       "       product_id source_has_issue deck_risk oe_constraint ppap_risk  \\\n",
       "count     1687861          1687860   1687860       1687860   1687860   \n",
       "unique    1687861                2         2             2         2   \n",
       "top       3277249               No        No            No        No   \n",
       "freq            1          1686953   1300377       1687615   1484026   \n",
       "\n",
       "       stop_auto_buy rev_stop went_on_backorder  \n",
       "count        1687860  1687860           1687860  \n",
       "unique             2        2                 2  \n",
       "top              Yes       No                No  \n",
       "freq         1626774  1687129           1676567  "
      ]
     },
     "execution_count": 9,
     "metadata": {},
     "output_type": "execute_result"
    }
   ],
   "source": [
    "df.describe(include=['object'])"
   ]
  },
  {
   "cell_type": "code",
   "execution_count": 10,
   "metadata": {},
   "outputs": [
    {
     "data": {
      "text/plain": [
       "product_id                           0\n",
       "current_inventory                    1\n",
       "transit_duration                100894\n",
       "transit_quantity                     1\n",
       "forecast_sales_3_months              1\n",
       "forecast_sales_6_months              1\n",
       "forecast_sales_9_months              1\n",
       "prior_sales_1_month                  1\n",
       "prior_sales_3_month                  1\n",
       "prior_sales_6_month                  1\n",
       "prior_sales_9_month                  1\n",
       "minimum_recommended_stock            1\n",
       "source_has_issue                     1\n",
       "source_overdue                       1\n",
       "source_performance_6_months          1\n",
       "source_performance_12_months         1\n",
       "stock_overdue                        1\n",
       "deck_risk                            1\n",
       "oe_constraint                        1\n",
       "ppap_risk                            1\n",
       "stop_auto_buy                        1\n",
       "rev_stop                             1\n",
       "went_on_backorder                    1\n",
       "dtype: int64"
      ]
     },
     "execution_count": 10,
     "metadata": {},
     "output_type": "execute_result"
    }
   ],
   "source": [
    "#checking the nulls\n",
    "df.isnull().sum()"
   ]
  },
  {
   "cell_type": "markdown",
   "metadata": {},
   "source": [
    "Many of the columns have just a single null entry. Quite possible that all these NaN belong to same row which might be header or footer. If we will remove this row it will also solve the mix datatype issue which we saw during data load.\n",
    "\n",
    "There are nulls and lots of 0's in each column. During the EDA/Feature engineering step we can determine if we want to omit or keep this column. But for now we will look for an approach to fill theses missing values.\n"
   ]
  },
  {
   "cell_type": "code",
   "execution_count": 11,
   "metadata": {},
   "outputs": [
    {
     "data": {
      "text/html": [
       "<div>\n",
       "<style>\n",
       "    .dataframe thead tr:only-child th {\n",
       "        text-align: right;\n",
       "    }\n",
       "\n",
       "    .dataframe thead th {\n",
       "        text-align: left;\n",
       "    }\n",
       "\n",
       "    .dataframe tbody tr th {\n",
       "        vertical-align: top;\n",
       "    }\n",
       "</style>\n",
       "<table border=\"1\" class=\"dataframe\">\n",
       "  <thead>\n",
       "    <tr style=\"text-align: right;\">\n",
       "      <th></th>\n",
       "      <th>product_id</th>\n",
       "      <th>current_inventory</th>\n",
       "      <th>transit_duration</th>\n",
       "      <th>transit_quantity</th>\n",
       "      <th>forecast_sales_3_months</th>\n",
       "      <th>forecast_sales_6_months</th>\n",
       "      <th>forecast_sales_9_months</th>\n",
       "      <th>prior_sales_1_month</th>\n",
       "      <th>prior_sales_3_month</th>\n",
       "      <th>prior_sales_6_month</th>\n",
       "      <th>...</th>\n",
       "      <th>source_overdue</th>\n",
       "      <th>source_performance_6_months</th>\n",
       "      <th>source_performance_12_months</th>\n",
       "      <th>stock_overdue</th>\n",
       "      <th>deck_risk</th>\n",
       "      <th>oe_constraint</th>\n",
       "      <th>ppap_risk</th>\n",
       "      <th>stop_auto_buy</th>\n",
       "      <th>rev_stop</th>\n",
       "      <th>went_on_backorder</th>\n",
       "    </tr>\n",
       "  </thead>\n",
       "  <tbody>\n",
       "    <tr>\n",
       "      <th>1687860</th>\n",
       "      <td>(1687860 rows)</td>\n",
       "      <td>NaN</td>\n",
       "      <td>NaN</td>\n",
       "      <td>NaN</td>\n",
       "      <td>NaN</td>\n",
       "      <td>NaN</td>\n",
       "      <td>NaN</td>\n",
       "      <td>NaN</td>\n",
       "      <td>NaN</td>\n",
       "      <td>NaN</td>\n",
       "      <td>...</td>\n",
       "      <td>NaN</td>\n",
       "      <td>NaN</td>\n",
       "      <td>NaN</td>\n",
       "      <td>NaN</td>\n",
       "      <td>NaN</td>\n",
       "      <td>NaN</td>\n",
       "      <td>NaN</td>\n",
       "      <td>NaN</td>\n",
       "      <td>NaN</td>\n",
       "      <td>NaN</td>\n",
       "    </tr>\n",
       "  </tbody>\n",
       "</table>\n",
       "<p>1 rows × 23 columns</p>\n",
       "</div>"
      ],
      "text/plain": [
       "             product_id  current_inventory  transit_duration  \\\n",
       "1687860  (1687860 rows)                NaN               NaN   \n",
       "\n",
       "         transit_quantity  forecast_sales_3_months  forecast_sales_6_months  \\\n",
       "1687860               NaN                      NaN                      NaN   \n",
       "\n",
       "         forecast_sales_9_months  prior_sales_1_month  prior_sales_3_month  \\\n",
       "1687860                      NaN                  NaN                  NaN   \n",
       "\n",
       "         prior_sales_6_month        ...         source_overdue  \\\n",
       "1687860                  NaN        ...                    NaN   \n",
       "\n",
       "         source_performance_6_months source_performance_12_months  \\\n",
       "1687860                          NaN                          NaN   \n",
       "\n",
       "         stock_overdue  deck_risk  oe_constraint  ppap_risk stop_auto_buy  \\\n",
       "1687860            NaN        NaN            NaN        NaN           NaN   \n",
       "\n",
       "        rev_stop went_on_backorder  \n",
       "1687860      NaN               NaN  \n",
       "\n",
       "[1 rows x 23 columns]"
      ]
     },
     "execution_count": 11,
     "metadata": {},
     "output_type": "execute_result"
    }
   ],
   "source": [
    "df[df.current_inventory.isnull()]"
   ]
  },
  {
   "cell_type": "code",
   "execution_count": 12,
   "metadata": {
    "collapsed": true
   },
   "outputs": [],
   "source": [
    "df.drop(1687860, inplace=True)"
   ]
  },
  {
   "cell_type": "code",
   "execution_count": 13,
   "metadata": {},
   "outputs": [
    {
     "data": {
      "text/plain": [
       "product_id                           0\n",
       "current_inventory                    0\n",
       "transit_duration                100893\n",
       "transit_quantity                     0\n",
       "forecast_sales_3_months              0\n",
       "forecast_sales_6_months              0\n",
       "forecast_sales_9_months              0\n",
       "prior_sales_1_month                  0\n",
       "prior_sales_3_month                  0\n",
       "prior_sales_6_month                  0\n",
       "prior_sales_9_month                  0\n",
       "minimum_recommended_stock            0\n",
       "source_has_issue                     0\n",
       "source_overdue                       0\n",
       "source_performance_6_months          0\n",
       "source_performance_12_months         0\n",
       "stock_overdue                        0\n",
       "deck_risk                            0\n",
       "oe_constraint                        0\n",
       "ppap_risk                            0\n",
       "stop_auto_buy                        0\n",
       "rev_stop                             0\n",
       "went_on_backorder                    0\n",
       "dtype: int64"
      ]
     },
     "execution_count": 13,
     "metadata": {},
     "output_type": "execute_result"
    }
   ],
   "source": [
    "df.isnull().sum()"
   ]
  },
  {
   "cell_type": "code",
   "execution_count": 14,
   "metadata": {
    "collapsed": true
   },
   "outputs": [],
   "source": [
    "df.product_id = df.product_id.astype(int)"
   ]
  },
  {
   "cell_type": "markdown",
   "metadata": {},
   "source": [
    "# Handling Nan and missing values\n",
    "**Transit Duration** has 100894 null values.\n",
    "\n",
    "Missing values in columns **source_performance_6_months** and **source_performance_12_months** are represented as **-99**. source_performance_6_months has  **129478** & source_performance_12_months has **122050** missing values.\n",
    "\n",
    "\n",
    "Heatmap shows tha there is strong correlation between **source_performance_6_months** and **source_performance_12_months**. So, linear regression can be used to filing missing values. However another interesting point to note here is that many observations have both source_performance_12_months and  source_performance_6_months as null, so linear regression cannot fill such values and we need to see another approach there. Probably we would like now to check for the central tendency of the data and replace the null accordingly. It’s clearly visible from violin plot that data is not distributed normally. So we can pick median to fill remaining values\n",
    " \n",
    "For **Transit Duration** I don't see correlation of this attribute with other features and also data is not distributed normally. So, again we can choose median to fill the nulls.\n",
    "\n",
    "There is no dupicates in this dataset. We don't need to put eny effort in that front.\n"
   ]
  },
  {
   "cell_type": "code",
   "execution_count": 15,
   "metadata": {},
   "outputs": [
    {
     "data": {
      "text/plain": [
       "<matplotlib.text.Text at 0x1bf2e568c50>"
      ]
     },
     "execution_count": 15,
     "metadata": {},
     "output_type": "execute_result"
    },
    {
     "data": {
      "image/png": "[encoded data removed]",
      "text/plain": [
       "<matplotlib.figure.Figure at 0x1bf2e07ecc0>"
      ]
     },
     "metadata": {},
     "output_type": "display_data"
    }
   ],
   "source": [
    "# Find the correlation \n",
    "fig, ax = plt.subplots(figsize=(15,15))\n",
    "col_corr =df.corr()\n",
    "sns.heatmap(col_corr, annot=True)\n",
    "sns.plt.title('Heatmap of Correlation Matrix')"
   ]
  },
  {
   "cell_type": "code",
   "execution_count": 16,
   "metadata": {},
   "outputs": [
    {
     "data": {
      "text/plain": [
       "<matplotlib.text.Text at 0x1bf2f278f28>"
      ]
     },
     "execution_count": 16,
     "metadata": {},
     "output_type": "execute_result"
    },
    {
     "data": {
      "image/png": "[encoded data removed]",
      "text/plain": [
       "<matplotlib.figure.Figure at 0x1bf2e561e10>"
      ]
     },
     "metadata": {},
     "output_type": "display_data"
    }
   ],
   "source": [
    "# View range and distribution\n",
    "sns.violinplot(df.transit_duration)\n",
    "sns.plt.title('Transit Duration range and distribution')"
   ]
  },
  {
   "cell_type": "code",
   "execution_count": 17,
   "metadata": {},
   "outputs": [
    {
     "data": {
      "text/plain": [
       "0"
      ]
     },
     "execution_count": 17,
     "metadata": {},
     "output_type": "execute_result"
    }
   ],
   "source": [
    "#Fill null with median value\n",
    "df['transit_duration']=df.transit_duration.fillna(df.transit_duration.median())\n",
    "df.transit_duration.isnull().sum()"
   ]
  },
  {
   "cell_type": "code",
   "execution_count": 18,
   "metadata": {},
   "outputs": [
    {
     "data": {
      "text/plain": [
       "8.0     783079\n",
       "2.0     337402\n",
       "12.0    199700\n",
       "4.0     128537\n",
       "9.0     123649\n",
       "52.0     30113\n",
       "3.0      16253\n",
       "10.0     14192\n",
       "0.0      10511\n",
       "14.0     10314\n",
       "16.0      8843\n",
       "13.0      5405\n",
       "6.0       5365\n",
       "5.0       4031\n",
       "15.0      3812\n",
       "17.0      3763\n",
       "11.0      1094\n",
       "20.0       416\n",
       "30.0       312\n",
       "18.0       221\n",
       "7.0        209\n",
       "22.0       133\n",
       "24.0       115\n",
       "26.0       105\n",
       "28.0        84\n",
       "21.0        49\n",
       "40.0        48\n",
       "35.0        35\n",
       "19.0        28\n",
       "1.0         21\n",
       "23.0        14\n",
       "25.0         7\n",
       "Name: transit_duration, dtype: int64"
      ]
     },
     "execution_count": 18,
     "metadata": {},
     "output_type": "execute_result"
    }
   ],
   "source": [
    "df['transit_duration'].value_counts()"
   ]
  },
  {
   "cell_type": "code",
   "execution_count": 19,
   "metadata": {},
   "outputs": [
    {
     "data": {
      "text/plain": [
       "0"
      ]
     },
     "execution_count": 19,
     "metadata": {},
     "output_type": "execute_result"
    }
   ],
   "source": [
    "#Checking for the duplicates\n",
    "df.product_id.duplicated().sum()"
   ]
  },
  {
   "cell_type": "code",
   "execution_count": 20,
   "metadata": {
    "collapsed": true
   },
   "outputs": [],
   "source": [
    "# Replace -99 with Nan\n",
    "df.source_performance_6_months.replace({-99.00:np.nan}, inplace=True)\n",
    "df.source_performance_12_months.replace({-99.00:np.nan}, inplace=True)"
   ]
  },
  {
   "cell_type": "code",
   "execution_count": 21,
   "metadata": {},
   "outputs": [
    {
     "data": {
      "text/plain": [
       "0"
      ]
     },
     "execution_count": 21,
     "metadata": {},
     "output_type": "execute_result"
    }
   ],
   "source": [
    "(df.source_performance_6_months == -99.00).sum()"
   ]
  },
  {
   "cell_type": "code",
   "execution_count": 22,
   "metadata": {},
   "outputs": [
    {
     "data": {
      "text/plain": [
       "0"
      ]
     },
     "execution_count": 22,
     "metadata": {},
     "output_type": "execute_result"
    }
   ],
   "source": [
    "(df.source_performance_12_months == -99).sum()"
   ]
  },
  {
   "cell_type": "code",
   "execution_count": 23,
   "metadata": {
    "collapsed": true
   },
   "outputs": [],
   "source": [
    "#LinearRegression for filling the Nan \n",
    "X_12months = df[df.source_performance_6_months.notnull() & df.source_performance_12_months.notnull()][['source_performance_12_months']]\n",
    "y_6months = df[df.source_performance_6_months.notnull() & df.source_performance_12_months.notnull()]['source_performance_6_months']"
   ]
  },
  {
   "cell_type": "code",
   "execution_count": 24,
   "metadata": {},
   "outputs": [
    {
     "data": {
      "text/plain": [
       "LinearRegression(copy_X=True, fit_intercept=True, n_jobs=1, normalize=False)"
      ]
     },
     "execution_count": 24,
     "metadata": {},
     "output_type": "execute_result"
    }
   ],
   "source": [
    "linReg = LinearRegression()\n",
    "linReg.fit(X_12months,y_6months)"
   ]
  },
  {
   "cell_type": "code",
   "execution_count": 25,
   "metadata": {
    "collapsed": true
   },
   "outputs": [],
   "source": [
    "#Predicted Nan values\n",
    "test_12months = df[df.source_performance_6_months.isnull() & df.source_performance_12_months.notnull()][['source_performance_12_months']]\n",
    "pred_6months = linReg.predict(test_12months)"
   ]
  },
  {
   "cell_type": "code",
   "execution_count": 26,
   "metadata": {
    "collapsed": true
   },
   "outputs": [],
   "source": [
    "# Fill the null values\n",
    "reg_6_months_list = list(zip(test_12months.index,pred_6months))\n",
    "for val in reg_6_months_list:\n",
    "      df.set_value(index=val[0], value =val[1], col='source_performance_6_months')"
   ]
  },
  {
   "cell_type": "code",
   "execution_count": 27,
   "metadata": {},
   "outputs": [
    {
     "data": {
      "text/plain": [
       "122050"
      ]
     },
     "execution_count": 27,
     "metadata": {},
     "output_type": "execute_result"
    }
   ],
   "source": [
    "#Check if the value is inserted\n",
    "df.source_performance_6_months.isnull().sum()"
   ]
  },
  {
   "cell_type": "code",
   "execution_count": 28,
   "metadata": {},
   "outputs": [
    {
     "data": {
      "text/plain": [
       "<matplotlib.text.Text at 0x1bf00098710>"
      ]
     },
     "execution_count": 28,
     "metadata": {},
     "output_type": "execute_result"
    },
    {
     "data": {
      "image/png": "[encoded data removed]",
      "text/plain": [
       "<matplotlib.figure.Figure at 0x1bf2f213eb8>"
      ]
     },
     "metadata": {},
     "output_type": "display_data"
    }
   ],
   "source": [
    "# View range and distribution\n",
    "sns.violinplot(df.source_performance_6_months)\n",
    "sns.plt.title('source_performance_6_months range and distribution')\n"
   ]
  },
  {
   "cell_type": "code",
   "execution_count": 29,
   "metadata": {
    "collapsed": true
   },
   "outputs": [],
   "source": [
    "#impute null with median\n",
    "df.source_performance_6_months.fillna(df.source_performance_6_months.median(), inplace=True)"
   ]
  },
  {
   "cell_type": "code",
   "execution_count": 30,
   "metadata": {},
   "outputs": [
    {
     "data": {
      "text/plain": [
       "0"
      ]
     },
     "execution_count": 30,
     "metadata": {},
     "output_type": "execute_result"
    }
   ],
   "source": [
    "df.source_performance_6_months.isnull().sum()"
   ]
  },
  {
   "cell_type": "code",
   "execution_count": 31,
   "metadata": {},
   "outputs": [
    {
     "data": {
      "text/plain": [
       "<matplotlib.text.Text at 0x1bf00136dd8>"
      ]
     },
     "execution_count": 31,
     "metadata": {},
     "output_type": "execute_result"
    },
    {
     "data": {
      "image/png": "[encoded data removed]",
      "text/plain": [
       "<matplotlib.figure.Figure at 0x1bf000e89e8>"
      ]
     },
     "metadata": {},
     "output_type": "display_data"
    }
   ],
   "source": [
    "# View range and distribution\n",
    "sns.violinplot(df.source_performance_12_months)\n",
    "sns.plt.title('source_performance_12_months range and distribution')"
   ]
  },
  {
   "cell_type": "code",
   "execution_count": 32,
   "metadata": {},
   "outputs": [
    {
     "data": {
      "text/plain": [
       "0"
      ]
     },
     "execution_count": 32,
     "metadata": {},
     "output_type": "execute_result"
    }
   ],
   "source": [
    "#impute null with median\n",
    "df.source_performance_12_months.fillna(df.source_performance_12_months.median(), inplace=True)\n",
    "df.source_performance_12_months.isnull().sum()"
   ]
  },
  {
   "cell_type": "markdown",
   "metadata": {},
   "source": [
    "# Handling repetitive values:\n",
    "\n",
    "It seems there are many  0's in our dataset. Let's find out the **repetition of 0's **in each column. If any of the columns has more than 60%, 0 we can safely drop that column. This kind of data trend can be viewed on violinplot. \n",
    "\n",
    "</br>\n",
    "\n"
   ]
  },
  {
   "cell_type": "code",
   "execution_count": 33,
   "metadata": {},
   "outputs": [
    {
     "data": {
      "text/plain": [
       "<matplotlib.text.Text at 0x1bf0023b588>"
      ]
     },
     "execution_count": 33,
     "metadata": {},
     "output_type": "execute_result"
    },
    {
     "data": {
      "image/png": "[encoded data removed]",
      "text/plain": [
       "<matplotlib.figure.Figure at 0x1bf00124e10>"
      ]
     },
     "metadata": {},
     "output_type": "display_data"
    }
   ],
   "source": [
    "fig , ax1 = plt.subplots(ncols=2)\n",
    "sns.violinplot(df.forecast_sales_3_months,   ax=ax1[0])\n",
    "#sns.plt.title('transit_quantity range and distribution')\n",
    "\n",
    "sns.violinplot(df.transit_quantity,  ax=ax1[1])\n",
    "sns.plt.title('transit_quantity range and distribution')"
   ]
  },
  {
   "cell_type": "code",
   "execution_count": 34,
   "metadata": {
    "collapsed": true
   },
   "outputs": [],
   "source": [
    "# Calculate the repeatition of 0 in each column\n",
    "perct_0  = {column: '%2.2f' % (((df[column] == 0).sum()/df.shape[0])*100)+'%' for column in df.columns if df[column].dtype == np.float64}\n"
   ]
  },
  {
   "cell_type": "code",
   "execution_count": 35,
   "metadata": {},
   "outputs": [
    {
     "data": {
      "text/plain": [
       "{'current_inventory': '6.42%',\n",
       " 'forecast_sales_3_months': '69.78%',\n",
       " 'forecast_sales_6_months': '64.23%',\n",
       " 'forecast_sales_9_months': '61.22%',\n",
       " 'minimum_recommended_stock': '51.68%',\n",
       " 'prior_sales_1_month': '56.87%',\n",
       " 'prior_sales_3_month': '44.98%',\n",
       " 'prior_sales_6_month': '38.33%',\n",
       " 'prior_sales_9_month': '34.72%',\n",
       " 'source_overdue': '98.50%',\n",
       " 'source_performance_12_months': '1.95%',\n",
       " 'source_performance_6_months': '2.31%',\n",
       " 'stock_overdue': '98.62%',\n",
       " 'transit_duration': '0.62%',\n",
       " 'transit_quantity': '79.67%'}"
      ]
     },
     "execution_count": 35,
     "metadata": {},
     "output_type": "execute_result"
    }
   ],
   "source": [
    "perct_0 "
   ]
  },
  {
   "cell_type": "code",
   "execution_count": 36,
   "metadata": {
    "collapsed": true
   },
   "outputs": [],
   "source": [
    "# Drop the column having more than 60% of 0's\n",
    "df = df.drop(['forecast_sales_3_months','forecast_sales_6_months','forecast_sales_9_months','source_overdue','stock_overdue','transit_quantity'], axis=1)"
   ]
  },
  {
   "cell_type": "code",
   "execution_count": 37,
   "metadata": {},
   "outputs": [
    {
     "data": {
      "text/plain": [
       "(1687860, 17)"
      ]
     },
     "execution_count": 37,
     "metadata": {},
     "output_type": "execute_result"
    }
   ],
   "source": [
    "df.shape"
   ]
  },
  {
   "cell_type": "markdown",
   "metadata": {},
   "source": [
    "# #Handling Outliers\n",
    "\n",
    "Outliers are something we need to take care at each step. At this time, some of the outliers can be determined and handled by using the boxplot.\n",
    "<br>\n",
    "\n"
   ]
  },
  {
   "cell_type": "code",
   "execution_count": 38,
   "metadata": {
    "scrolled": false
   },
   "outputs": [
    {
     "data": {
      "text/plain": [
       "<matplotlib.axes._subplots.AxesSubplot at 0x1bf00c6f4a8>"
      ]
     },
     "execution_count": 38,
     "metadata": {},
     "output_type": "execute_result"
    },
    {
     "data": {
      "image/png": "[encoded data removed]",
      "text/plain": [
       "<matplotlib.figure.Figure at 0x1bf0029fd30>"
      ]
     },
     "metadata": {},
     "output_type": "display_data"
    }
   ],
   "source": [
    "fig , ax1 = plt.subplots(nrows=3, ncols=3,figsize=(15,15) )\n",
    "sns.boxplot(df.current_inventory, ax=ax1[0,0])\n",
    "sns.boxplot(df.transit_duration, ax=ax1[0,1])\n",
    "sns.boxplot(df.prior_sales_1_month,ax=ax1[0,2])\n",
    "sns.boxplot(df.prior_sales_3_month, ax=ax1[1,0])\n",
    "sns.boxplot(df.prior_sales_6_month, ax=ax1[1,1])\n",
    "sns.boxplot(df.prior_sales_9_month, ax=ax1[1,2])\n",
    "sns.boxplot(df.minimum_recommended_stock, ax=ax1[2,0])\n",
    "sns.boxplot(df.source_performance_6_months, ax=ax1[2,1])\n",
    "sns.boxplot(df.source_performance_12_months, ax=ax1[2,2])\n",
    "\n",
    "#sns.violinplot(df.transit_duration,  ax=ax1[1])\n",
    "#sns.plt.title('transit_quantity range and distribution')"
   ]
  },
  {
   "cell_type": "markdown",
   "metadata": {},
   "source": [
    "Lets define a funtion to find the whisker values (in other words, upper and lower IQR boundaries for outliers"
   ]
  },
  {
   "cell_type": "code",
   "execution_count": 39,
   "metadata": {},
   "outputs": [],
   "source": [
    "def get_outlier_boundaries(column):\n",
    "    q75, q25  = np.percentile(column, [75,25])\n",
    "    iqr = q75 - q25\n",
    "\n",
    "    lower = q25 - 1.5 * iqr\n",
    "    upper = q75 + 1.5 * iqr\n",
    "\n",
    "    return lower,upper"
   ]
  },
  {
   "cell_type": "code",
   "execution_count": 40,
   "metadata": {},
   "outputs": [
    {
     "name": "stdout",
     "output_type": "stream",
     "text": [
      "(48098, 17)\n"
     ]
    },
    {
     "data": {
      "text/plain": [
       "No     47993\n",
       "Yes      105\n",
       "Name: went_on_backorder, dtype: int64"
      ]
     },
     "execution_count": 40,
     "metadata": {},
     "output_type": "execute_result"
    }
   ],
   "source": [
    "transit_duration_upper = get_outlier_boundaries(df.transit_duration)[1]\n",
    "outlier_transit_duration = df[df.transit_duration > transit_duration_upper]\n",
    "print(outlier_transit_duration.shape)\n",
    "outlier_transit_duration.went_on_backorder.value_counts()"
   ]
  },
  {
   "cell_type": "code",
   "execution_count": 41,
   "metadata": {
    "collapsed": true
   },
   "outputs": [],
   "source": [
    "df = df.drop(outlier_transit_duration.index)"
   ]
  },
  {
   "cell_type": "code",
   "execution_count": 42,
   "metadata": {},
   "outputs": [
    {
     "data": {
      "image/png": "[encoded data removed]",
      "text/plain": [
       "<matplotlib.figure.Figure at 0x1bf00298828>"
      ]
     },
     "metadata": {},
     "output_type": "display_data"
    }
   ],
   "source": [
    "_ = sns.boxplot(df.transit_duration)"
   ]
  },
  {
   "cell_type": "code",
   "execution_count": 43,
   "metadata": {},
   "outputs": [
    {
     "data": {
      "text/plain": [
       "<matplotlib.axes._subplots.AxesSubplot at 0x1bf00ecbc18>"
      ]
     },
     "execution_count": 43,
     "metadata": {},
     "output_type": "execute_result"
    },
    {
     "data": {
      "image/png": "[encoded data removed]",
      "text/plain": [
       "<matplotlib.figure.Figure at 0x1bf00303470>"
      ]
     },
     "metadata": {},
     "output_type": "display_data"
    }
   ],
   "source": [
    "sns.distplot(df.transit_duration)"
   ]
  },
  {
   "cell_type": "markdown",
   "metadata": {},
   "source": [
    "Lets looks at the prior_sales_9_month's data"
   ]
  },
  {
   "cell_type": "code",
   "execution_count": 52,
   "metadata": {},
   "outputs": [
    {
     "data": {
      "text/plain": [
       "(-70.5, 117.5)"
      ]
     },
     "execution_count": 52,
     "metadata": {},
     "output_type": "execute_result"
    }
   ],
   "source": [
    "fig, ax = get_outlier_boundaries(df.prior_sales_9_month)"
   ]
  },
  {
   "cell_type": "code",
   "execution_count": 65,
   "metadata": {},
   "outputs": [
    {
     "data": {
      "text/plain": [
       "(7, 17)"
      ]
     },
     "execution_count": 65,
     "metadata": {},
     "output_type": "execute_result"
    }
   ],
   "source": [
    "# minimum_recommended_stock beyond 210000\n",
    "\n",
    "outlier_minimum_recommended_stock = df[df.minimum_recommended_stock > 250000]\n",
    "outlier_minimum_recommended_stock.shape\n"
   ]
  },
  {
   "cell_type": "code",
   "execution_count": 66,
   "metadata": {
    "collapsed": true
   },
   "outputs": [],
   "source": [
    "#count is low so let's delete\n",
    "df = df.drop(outlier_minimum_recommended_stock.index, errors='ignore')"
   ]
  },
  {
   "cell_type": "code",
   "execution_count": 69,
   "metadata": {},
   "outputs": [
    {
     "data": {
      "text/plain": [
       "(90985, 17)"
      ]
     },
     "execution_count": 69,
     "metadata": {},
     "output_type": "execute_result"
    }
   ],
   "source": [
    "# source_performance_6_months beyond 40\n",
    "\n",
    "outlier_source_performance_6_months = df[df.source_performance_6_months <.3]\n",
    "outlier_source_performance_6_months.shape\n",
    "#Can not be deleted at this point of time"
   ]
  },
  {
   "cell_type": "code",
   "execution_count": 70,
   "metadata": {},
   "outputs": [
    {
     "data": {
      "text/plain": [
       "(21, 17)"
      ]
     },
     "execution_count": 70,
     "metadata": {},
     "output_type": "execute_result"
    }
   ],
   "source": [
    "outlier_current_inventory = df[df.current_inventory> .2e07]\n",
    "outlier_current_inventory.shape"
   ]
  },
  {
   "cell_type": "code",
   "execution_count": 71,
   "metadata": {
    "collapsed": true
   },
   "outputs": [],
   "source": [
    "#count is low so let's delete\n",
    "df = df.drop(outlier_current_inventory.index, errors='ignore')"
   ]
  },
  {
   "cell_type": "code",
   "execution_count": 72,
   "metadata": {},
   "outputs": [
    {
     "data": {
      "text/plain": [
       "(1639734, 17)"
      ]
     },
     "execution_count": 72,
     "metadata": {},
     "output_type": "execute_result"
    }
   ],
   "source": [
    "df.shape"
   ]
  },
  {
   "cell_type": "markdown",
   "metadata": {},
   "source": [
    "Lets set the type as category for the categorical columns"
   ]
  },
  {
   "cell_type": "code",
   "execution_count": 73,
   "metadata": {
    "collapsed": true
   },
   "outputs": [],
   "source": [
    "for col in ['source_has_issue', 'deck_risk', 'oe_constraint', 'ppap_risk', 'stop_auto_buy', 'rev_stop', 'went_on_backorder']:\n",
    "    df[col] = df[col].astype('category')"
   ]
  },
  {
   "cell_type": "code",
   "execution_count": 74,
   "metadata": {
    "collapsed": true
   },
   "outputs": [],
   "source": [
    "df.to_csv('../Backorder_clean.csv',index=False)"
   ]
  },
  {
   "cell_type": "markdown",
   "metadata": {},
   "source": [
    "Our data is in clean state now - as much as we can and saved in a file. We will pick-up this clean file for further\n",
    "EDA. Some of data clean can be done during EDA too.\n",
    "**********"
   ]
  }
 ],
 "metadata": {
  "kernelspec": {
   "display_name": "Python 3",
   "language": "python",
   "name": "python3"
  },
  "language_info": {
   "codemirror_mode": {
    "name": "ipython",
    "version": 3
   },
   "file_extension": ".py",
   "mimetype": "text/x-python",
   "name": "python",
   "nbconvert_exporter": "python",
   "pygments_lexer": "ipython3",
   "version": "3.6.1"
  }
 },
 "nbformat": 4,
 "nbformat_minor": 2
}
