{
 "cells": [
  {
   "cell_type": "code",
   "execution_count": 1,
   "metadata": {
    "collapsed": true
   },
   "outputs": [],
   "source": [
    "# Importing the packages\n",
    "import pandas as pd\n",
    "import numpy as np\n",
    "import matplotlib.pylab as plt\n",
    "import seaborn as sns\n",
    "from sklearn.model_selection import train_test_split \n",
    "from sklearn.metrics import classification_report\n",
    "from sklearn.metrics import roc_curve\n",
    "from sklearn.model_selection import cross_val_score\n",
    "from sklearn.model_selection import GridSearchCV\n",
    "from sklearn.model_selection import RandomizedSearchCV \n",
    "from sklearn.ensemble import RandomForestClassifier\n",
    "from sklearn.ensemble import AdaBoostClassifier\n",
    "from sklearn.ensemble import GradientBoostingClassifier\n",
    "from sklearn.metrics import confusion_matrix\n",
    "from sklearn.metrics import recall_score\n",
    "from sklearn.metrics import precision_score\n",
    "from sklearn.metrics import average_precision_score\n",
    "from sklearn.metrics import precision_recall_curve\n",
    "%matplotlib inline"
   ]
  },
  {
   "cell_type": "code",
   "execution_count": 2,
   "metadata": {},
   "outputs": [
    {
     "data": {
      "text/html": [
       "<div>\n",
       "<style>\n",
       "    .dataframe thead tr:only-child th {\n",
       "        text-align: right;\n",
       "    }\n",
       "\n",
       "    .dataframe thead th {\n",
       "        text-align: left;\n",
       "    }\n",
       "\n",
       "    .dataframe tbody tr th {\n",
       "        vertical-align: top;\n",
       "    }\n",
       "</style>\n",
       "<table border=\"1\" class=\"dataframe\">\n",
       "  <thead>\n",
       "    <tr style=\"text-align: right;\">\n",
       "      <th></th>\n",
       "      <th>product_id</th>\n",
       "      <th>current_inventory</th>\n",
       "      <th>transit_duration</th>\n",
       "      <th>prior_sales_1_month</th>\n",
       "      <th>prior_sales_3_month</th>\n",
       "      <th>prior_sales_6_month</th>\n",
       "      <th>prior_sales_9_month</th>\n",
       "      <th>minimum_recommended_stock</th>\n",
       "      <th>source_performance_6_months</th>\n",
       "      <th>source_performance_12_months</th>\n",
       "      <th>deck_risk</th>\n",
       "      <th>ppap_risk</th>\n",
       "      <th>stop_auto_buy</th>\n",
       "      <th>went_on_backorder</th>\n",
       "    </tr>\n",
       "  </thead>\n",
       "  <tbody>\n",
       "    <tr>\n",
       "      <th>1687827</th>\n",
       "      <td>1407754</td>\n",
       "      <td>0.0</td>\n",
       "      <td>2.0</td>\n",
       "      <td>0.0</td>\n",
       "      <td>5.0</td>\n",
       "      <td>7.0</td>\n",
       "      <td>7.0</td>\n",
       "      <td>0.0</td>\n",
       "      <td>0.69</td>\n",
       "      <td>0.69</td>\n",
       "      <td>Yes</td>\n",
       "      <td>No</td>\n",
       "      <td>Yes</td>\n",
       "      <td>No</td>\n",
       "    </tr>\n",
       "    <tr>\n",
       "      <th>1687828</th>\n",
       "      <td>1373987</td>\n",
       "      <td>-1.0</td>\n",
       "      <td>8.0</td>\n",
       "      <td>1.0</td>\n",
       "      <td>3.0</td>\n",
       "      <td>3.0</td>\n",
       "      <td>8.0</td>\n",
       "      <td>0.0</td>\n",
       "      <td>0.84</td>\n",
       "      <td>0.83</td>\n",
       "      <td>No</td>\n",
       "      <td>No</td>\n",
       "      <td>Yes</td>\n",
       "      <td>No</td>\n",
       "    </tr>\n",
       "    <tr>\n",
       "      <th>1687829</th>\n",
       "      <td>1524346</td>\n",
       "      <td>-1.0</td>\n",
       "      <td>9.0</td>\n",
       "      <td>0.0</td>\n",
       "      <td>8.0</td>\n",
       "      <td>11.0</td>\n",
       "      <td>12.0</td>\n",
       "      <td>0.0</td>\n",
       "      <td>0.86</td>\n",
       "      <td>0.84</td>\n",
       "      <td>Yes</td>\n",
       "      <td>No</td>\n",
       "      <td>No</td>\n",
       "      <td>Yes</td>\n",
       "    </tr>\n",
       "    <tr>\n",
       "      <th>1687830</th>\n",
       "      <td>1439563</td>\n",
       "      <td>62.0</td>\n",
       "      <td>9.0</td>\n",
       "      <td>35.0</td>\n",
       "      <td>63.0</td>\n",
       "      <td>153.0</td>\n",
       "      <td>205.0</td>\n",
       "      <td>12.0</td>\n",
       "      <td>0.86</td>\n",
       "      <td>0.84</td>\n",
       "      <td>No</td>\n",
       "      <td>No</td>\n",
       "      <td>Yes</td>\n",
       "      <td>No</td>\n",
       "    </tr>\n",
       "    <tr>\n",
       "      <th>1687831</th>\n",
       "      <td>1502009</td>\n",
       "      <td>19.0</td>\n",
       "      <td>4.0</td>\n",
       "      <td>2.0</td>\n",
       "      <td>7.0</td>\n",
       "      <td>12.0</td>\n",
       "      <td>20.0</td>\n",
       "      <td>1.0</td>\n",
       "      <td>0.73</td>\n",
       "      <td>0.78</td>\n",
       "      <td>No</td>\n",
       "      <td>No</td>\n",
       "      <td>Yes</td>\n",
       "      <td>No</td>\n",
       "    </tr>\n",
       "  </tbody>\n",
       "</table>\n",
       "</div>"
      ],
      "text/plain": [
       "         product_id  current_inventory  transit_duration  prior_sales_1_month  \\\n",
       "1687827     1407754                0.0               2.0                  0.0   \n",
       "1687828     1373987               -1.0               8.0                  1.0   \n",
       "1687829     1524346               -1.0               9.0                  0.0   \n",
       "1687830     1439563               62.0               9.0                 35.0   \n",
       "1687831     1502009               19.0               4.0                  2.0   \n",
       "\n",
       "         prior_sales_3_month  prior_sales_6_month  prior_sales_9_month  \\\n",
       "1687827                  5.0                  7.0                  7.0   \n",
       "1687828                  3.0                  3.0                  8.0   \n",
       "1687829                  8.0                 11.0                 12.0   \n",
       "1687830                 63.0                153.0                205.0   \n",
       "1687831                  7.0                 12.0                 20.0   \n",
       "\n",
       "         minimum_recommended_stock  source_performance_6_months  \\\n",
       "1687827                        0.0                         0.69   \n",
       "1687828                        0.0                         0.84   \n",
       "1687829                        0.0                         0.86   \n",
       "1687830                       12.0                         0.86   \n",
       "1687831                        1.0                         0.73   \n",
       "\n",
       "         source_performance_12_months deck_risk ppap_risk stop_auto_buy  \\\n",
       "1687827                          0.69       Yes        No           Yes   \n",
       "1687828                          0.83        No        No           Yes   \n",
       "1687829                          0.84       Yes        No            No   \n",
       "1687830                          0.84        No        No           Yes   \n",
       "1687831                          0.78        No        No           Yes   \n",
       "\n",
       "        went_on_backorder  \n",
       "1687827                No  \n",
       "1687828                No  \n",
       "1687829               Yes  \n",
       "1687830                No  \n",
       "1687831                No  "
      ]
     },
     "execution_count": 2,
     "metadata": {},
     "output_type": "execute_result"
    }
   ],
   "source": [
    "# Read the cleaned file to dataframe\n",
    "df = pd.read_csv('../Backorder_clean_withTransitOutlier.csv')\n",
    "df.tail()"
   ]
  },
  {
   "cell_type": "code",
   "execution_count": 3,
   "metadata": {
    "collapsed": true
   },
   "outputs": [],
   "source": [
    "# Devide the dataset \n",
    "X = pd.DataFrame(df.columns)\n",
    "X = df[df.columns]\n",
    "y =df['went_on_backorder']\n",
    "# make the traget values numeric\n",
    "y = y.replace('Yes', 1)\n",
    "y= y.replace('No', 0)\n"
   ]
  },
  {
   "cell_type": "code",
   "execution_count": 4,
   "metadata": {},
   "outputs": [
    {
     "data": {
      "text/plain": [
       "((1687832, 9), (1687832, 14))"
      ]
     },
     "execution_count": 4,
     "metadata": {},
     "output_type": "execute_result"
    }
   ],
   "source": [
    "# Drop the features which is not important\n",
    "X = X.drop(['went_on_backorder','deck_risk', 'ppap_risk', 'stop_auto_buy','product_id'], axis=1, errors='ignore')\n",
    "X.shape, df.shape"
   ]
  },
  {
   "cell_type": "code",
   "execution_count": 5,
   "metadata": {},
   "outputs": [
    {
     "data": {
      "text/plain": [
       "((1181482, 9), (1181482,), (506350, 9))"
      ]
     },
     "execution_count": 5,
     "metadata": {},
     "output_type": "execute_result"
    }
   ],
   "source": [
    "X_train, X_test, y_train, y_test = train_test_split(X, y, test_size=.30, random_state=42) \n",
    "X_train.shape , y_train.shape,  X_test.shape"
   ]
  },
  {
   "cell_type": "markdown",
   "metadata": {},
   "source": [
    "So till now we have **cleaned-up the data and performed the default classification** to check the **precision score on 20% of the data**. Based on the analysis until now, I chose to move ahead with** RandomForestClassifier, GradientBoostingClassifier, AdaBoostClassifier**.  My next step will be to tune all the three models and train them with 70% of the data. Rest **30% will be used for validation**."
   ]
  },
  {
   "cell_type": "markdown",
   "metadata": {},
   "source": [
    "## RandomForestClassifier Tuning and Training"
   ]
  },
  {
   "cell_type": "code",
   "execution_count": 7,
   "metadata": {},
   "outputs": [
    {
     "name": "stdout",
     "output_type": "stream",
     "text": [
      "Tuned Decision Tree Parameters: {'n_estimators': 50, 'min_samples_leaf': 5, 'max_features': 'sqrt', 'criterion': 'entropy'}\n",
      "Best score is 0.7851527438133301\n"
     ]
    }
   ],
   "source": [
    "# Setup the parameters and distributions to sample from: param_dist\n",
    "param_dist = {\"n_estimators\":[10, 20 , 50],\n",
    "              \"max_features\":['auto', 'sqrt', 'log2'],\n",
    "              \"criterion\": [\"gini\", \"entropy\"],\n",
    "              \"min_samples_leaf\":[5, 10, 50]\n",
    "             }\n",
    "\n",
    "# Instantiate a Decision Tree classifier: tree\n",
    "tree = RandomForestClassifier()\n",
    "\n",
    "# Instantiate the RandomizedSearchCV object: tree_cv\n",
    "tree_cv = RandomizedSearchCV (tree, param_dist, cv=5, scoring='precision',n_jobs=-1)\n",
    "\n",
    "# Fit it to the data\n",
    "tree_cv.fit(X_train,y_train)\n",
    "\n",
    "# Print the tuned parameters and score\n",
    "print(\"Tuned Decision Tree Parameters: {}\".format(tree_cv.best_params_))\n",
    "print(\"Best score is {}\".format(tree_cv.best_score_))\n"
   ]
  },
  {
   "cell_type": "markdown",
   "metadata": {},
   "source": [
    "</br>\n",
    "For tuning the parameters of the model,  I used a mix of cross-validation and randomize search. Here is the Tuned parameters of ** RandomForestClassifier : {'n_estimators': 50, 'min_samples_leaf': 5, 'max_features': 'sqrt', 'criterion': 'entropy'}**\n",
    "\n",
    "I used **10 fold for cross Validation** and mean precision is **0.80211790393**\n",
    "30% unseen Test data precion score is** 0.80**\n",
    "</br>\n",
    "\n"
   ]
  },
  {
   "cell_type": "code",
   "execution_count": 10,
   "metadata": {},
   "outputs": [
    {
     "name": "stdout",
     "output_type": "stream",
     "text": [
      "[ 0.80864198  0.80898876  0.7715736   0.87356322  0.83139535  0.8343949\n",
      "  0.78142077  0.75647668  0.75144509  0.80327869]\n",
      "0.80211790393\n"
     ]
    }
   ],
   "source": [
    "# Tuned RandomForestClassifier and cross validated\n",
    "rfmodel= RandomForestClassifier(n_estimators=50, criterion='entropy', max_features='sqrt' ,random_state=30)\n",
    "rfModel_Precision = cross_val_score(rfmodel , X_train, y_train, cv=10, scoring='precision', n_jobs=-1)\n",
    "print(rfModel_Precision)\n",
    "print(rfModel_Precision.mean())\n"
   ]
  },
  {
   "cell_type": "code",
   "execution_count": 31,
   "metadata": {},
   "outputs": [
    {
     "name": "stdout",
     "output_type": "stream",
     "text": [
      "             precision    recall  f1-score   support\n",
      "\n",
      "          0       0.99      1.00      1.00    488617\n",
      "          1       0.80      0.21      0.34      3304\n",
      "\n",
      "avg / total       0.99      0.99      0.99    491921\n",
      "\n"
     ]
    }
   ],
   "source": [
    "# Test the model with 30% Test data\n",
    "y_test_pred= rfModel_tuned.predict(X_test)\n",
    "print(classification_report(y_test,y_test_pred))"
   ]
  },
  {
   "cell_type": "markdown",
   "metadata": {},
   "source": [
    "# GradientBoostingClassifier Tuning and Training\n",
    "\n",
    "</br>\n",
    "For tuning the parameters of the model,  I used a mix of cross-validation and randomize search. Here is the Tuned parameters of ** GradientBoostingClassifier : {'subsample': 0.5, 'n_estimators': 200, 'min_samples_leaf': 100, 'max_depth': 4, 'learning_rate': 0.01}\n",
    "**\n",
    "\n",
    "I used **10 fold for cross Validation** and mean precision is **0.80211790393**\n",
    "30% unseen Test data precion score is** 0.52** which is quite less as compare to RandomForestClassifier\n",
    "</br>\n"
   ]
  },
  {
   "cell_type": "code",
   "execution_count": 11,
   "metadata": {},
   "outputs": [
    {
     "name": "stdout",
     "output_type": "stream",
     "text": [
      "Tuned Decision Tree Parameters: {'subsample': 1, 'n_estimators': 200, 'min_samples_leaf': 50, 'learning_rate': 0.1}\n",
      "Best score is 0.5208008448096729\n"
     ]
    }
   ],
   "source": [
    "# Setup the parameters and distributions to sample from: param_dist\n",
    "\n",
    "param_dist = {'learning_rate': [0.1, 0.05, 0.02, 0.01],\n",
    "               'min_samples_leaf': [5, 20, 50,100,150],\n",
    "              'n_estimators': [100, 200, 500],\n",
    "              'subsample':[.5, .8, 1]}\n",
    "\n",
    "# Instantiate a Decision Tree classifier: tree\n",
    "gm = GradientBoostingClassifier()\n",
    "\n",
    "# Instantiate the RandomizedSearchCV object: tree_cv\n",
    "gm_cv = RandomizedSearchCV(gm, param_dist, cv=5, scoring='precision',n_jobs=-1)\n",
    "\n",
    "# Fit it to the data\n",
    "gm_cv.fit(X_train,y_train)\n",
    "\n",
    "# Print the tuned parameters and score\n",
    "print(\"Tuned Decision Tree Parameters: {}\".format(gm_cv.best_params_))\n",
    "print(\"Best score is {}\".format(gm_cv.best_score_))"
   ]
  },
  {
   "cell_type": "code",
   "execution_count": 12,
   "metadata": {},
   "outputs": [
    {
     "name": "stdout",
     "output_type": "stream",
     "text": [
      "[ 0.53846154  0.5         0.33333333  0.64285714  0.5         0.70588235\n",
      "  0.66666667  0.57142857  0.68421053  0.52941176]\n",
      "0.567225189671\n"
     ]
    }
   ],
   "source": [
    "# Tuned GradientBoostingClassifier and cross validated\n",
    "gbmodel= GradientBoostingClassifier(n_estimators=200, learning_rate= 0.1, min_samples_leaf=50,subsample=1, random_state=32)\n",
    "gbmodel_Precision = cross_val_score(gbmodel , X_train, y_train, cv=10, scoring='precision', n_jobs=-1)\n",
    "print(gbmodel_Precision)\n",
    "print(gbmodel_Precision.mean())"
   ]
  },
  {
   "cell_type": "markdown",
   "metadata": {},
   "source": [
    "# AdaBoostClassifier Tuning and Training"
   ]
  },
  {
   "cell_type": "code",
   "execution_count": 9,
   "metadata": {},
   "outputs": [
    {
     "data": {
      "text/plain": [
       "AdaBoostClassifier(algorithm='SAMME.R',\n",
       "          base_estimator=RandomForestClassifier(bootstrap=True, class_weight=None, criterion='entropy',\n",
       "            max_depth=None, max_features='sqrt', max_leaf_nodes=None,\n",
       "            min_impurity_decrease=0.0, min_impurity_split=None,\n",
       "            min_samples_leaf=1, min_samples_split=2,\n",
       "            min_weight_fraction_leaf=0.0, n_estimators=50, n_jobs=1,\n",
       "            oob_score=False, random_state=30, verbose=0, warm_start=False),\n",
       "          learning_rate=1.0, n_estimators=50, random_state=32)"
      ]
     },
     "execution_count": 9,
     "metadata": {},
     "output_type": "execute_result"
    }
   ],
   "source": [
    "abmodel= AdaBoostClassifier(base_estimator=rfmodel ,random_state = 32)\n",
    "abmodel.fit(X_train, y_train)\n"
   ]
  },
  {
   "cell_type": "code",
   "execution_count": 13,
   "metadata": {},
   "outputs": [
    {
     "name": "stdout",
     "output_type": "stream",
     "text": [
      "             precision    recall  f1-score   support\n",
      "\n",
      "          0       1.00      1.00      1.00    502921\n",
      "          1       0.81      0.28      0.41      3429\n",
      "\n",
      "avg / total       0.99      0.99      0.99    506350\n",
      "\n"
     ]
    }
   ],
   "source": [
    "abmodel_prediction = abmodel.predict( X_test )\n",
    "abmodel_report = classification_report(y_test, abmodel_prediction )\n",
    "#print the report\n",
    "print(abmodel_report)"
   ]
  },
  {
   "cell_type": "markdown",
   "metadata": {},
   "source": [
    "Based on the performance of all the predictive model I found **Tuned AdaBoostClassifier with base classifier as tuned RandomForestClassifier** is the most suitable predictive model to choose here.\n",
    "I will recommend this model to client as it has **precision score of .81.**\n"
   ]
  },
  {
   "cell_type": "code",
   "execution_count": 10,
   "metadata": {},
   "outputs": [
    {
     "data": {
      "text/plain": [
       "<matplotlib.text.Text at 0xce75f60>"
      ]
     },
     "execution_count": 10,
     "metadata": {},
     "output_type": "execute_result"
    },
    {
     "data": {
      "image/png": "[encoded data removed]",
      "text/plain": [
       "<matplotlib.figure.Figure at 0xd6e6128>"
      ]
     },
     "metadata": {},
     "output_type": "display_data"
    }
   ],
   "source": [
    "#plot Recall-Precision Curves\n",
    "fig , ax1 = plt.subplots(figsize=(9,9) )\n",
    "estimators =[rfmodel, gbmodel, abmodel]\n",
    "classifiers=['RandomForestClassifier','GradientBoostingClassifier',\n",
    "           'AdaBoostClassifier']\n",
    "colors = ['b', 'g', 'r']\n",
    "for i, estimator in enumerate(estimators):\n",
    "    y_pred_prob = estimator.predict_proba(X_test)[:,1]\n",
    "    precision, recall, _ = precision_recall_curve(y_test,y_pred_prob)\n",
    "    average_precision= average_precision_score(y_test, y_pred_prob, average=\"micro\")\n",
    "    plt.plot(recall, precision, label='%s (average=%.3f)'%(classifiers[i],average_precision), color=colors[i])\n",
    "plt.xlabel('Recall')\n",
    "plt.ylabel('Precision')\n",
    "plt.legend(loc=1)\n",
    "plt.title('Recall Precision Curve')"
   ]
  }
 ],
 "metadata": {
  "kernelspec": {
   "display_name": "Python 3",
   "language": "python",
   "name": "python3"
  },
  "language_info": {
   "codemirror_mode": {
    "name": "ipython",
    "version": 3
   },
   "file_extension": ".py",
   "mimetype": "text/x-python",
   "name": "python",
   "nbconvert_exporter": "python",
   "pygments_lexer": "ipython3",
   "version": "3.6.1"
  }
 },
 "nbformat": 4,
 "nbformat_minor": 2
}
