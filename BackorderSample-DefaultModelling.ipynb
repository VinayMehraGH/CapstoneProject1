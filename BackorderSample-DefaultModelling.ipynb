{
 "cells": [
  {
   "cell_type": "code",
   "execution_count": 17,
   "metadata": {
    "collapsed": true
   },
   "outputs": [],
   "source": [
    "# Importing the packages\n",
    "import pandas as pd\n",
    "import numpy as np\n",
    "import matplotlib.pylab as plt\n",
    "import seaborn as sns\n",
    "from sklearn.model_selection import train_test_split \n",
    "from sklearn.linear_model import LogisticRegression\n",
    "from sklearn.metrics import classification_report\n",
    "from sklearn.metrics import accuracy_score\n",
    "from sklearn.metrics import roc_curve\n",
    "from sklearn.model_selection import cross_val_score\n",
    "from sklearn.model_selection import GridSearchCV\n",
    "from sklearn import svm\n",
    "from sklearn.model_selection import RandomizedSearchCV \n",
    "from sklearn.ensemble import RandomForestClassifier\n",
    "from sklearn.ensemble import GradientBoostingClassifier\n",
    "from sklearn.ensemble import AdaBoostClassifier\n",
    "from scipy import stats as st\n",
    "from sklearn.neighbors import KNeighborsClassifier\n",
    "from sklearn.preprocessing import StandardScaler\n",
    "from sklearn.pipeline import Pipeline\n",
    "from sklearn.metrics import precision_score\n",
    "from sklearn.metrics import average_precision_score\n",
    "from sklearn.metrics import precision_recall_curve\n",
    "%matplotlib inline"
   ]
  },
  {
   "cell_type": "markdown",
   "metadata": {},
   "source": [
    "</br>\n",
    "Here I am planning to perform all the below **tasks:**\n",
    "\n",
    "+ Choose the **sample data which is 20% data**\n",
    "\n",
    "+ Divide the sample data to **train and test** data\n",
    "\n",
    "+ Create models with default values\n",
    "\n",
    "+ Train the model\n",
    "\n",
    "+ Validate and test the model\n",
    "\n",
    "+ Plot **recall-precision curv**e for all the trained models to compare\n",
    "\n",
    "</br>"
   ]
  },
  {
   "cell_type": "code",
   "execution_count": 18,
   "metadata": {},
   "outputs": [
    {
     "data": {
      "text/html": [
       "<div>\n",
       "<style>\n",
       "    .dataframe thead tr:only-child th {\n",
       "        text-align: right;\n",
       "    }\n",
       "\n",
       "    .dataframe thead th {\n",
       "        text-align: left;\n",
       "    }\n",
       "\n",
       "    .dataframe tbody tr th {\n",
       "        vertical-align: top;\n",
       "    }\n",
       "</style>\n",
       "<table border=\"1\" class=\"dataframe\">\n",
       "  <thead>\n",
       "    <tr style=\"text-align: right;\">\n",
       "      <th></th>\n",
       "      <th>product_id</th>\n",
       "      <th>current_inventory</th>\n",
       "      <th>transit_duration</th>\n",
       "      <th>prior_sales_1_month</th>\n",
       "      <th>prior_sales_3_month</th>\n",
       "      <th>prior_sales_6_month</th>\n",
       "      <th>prior_sales_9_month</th>\n",
       "      <th>minimum_recommended_stock</th>\n",
       "      <th>source_performance_6_months</th>\n",
       "      <th>source_performance_12_months</th>\n",
       "      <th>deck_risk</th>\n",
       "      <th>ppap_risk</th>\n",
       "      <th>stop_auto_buy</th>\n",
       "      <th>went_on_backorder</th>\n",
       "    </tr>\n",
       "  </thead>\n",
       "  <tbody>\n",
       "    <tr>\n",
       "      <th>0</th>\n",
       "      <td>1026827</td>\n",
       "      <td>0.0</td>\n",
       "      <td>8.0</td>\n",
       "      <td>0.0</td>\n",
       "      <td>0.0</td>\n",
       "      <td>0.0</td>\n",
       "      <td>0.0</td>\n",
       "      <td>0.0</td>\n",
       "      <td>0.84</td>\n",
       "      <td>0.83</td>\n",
       "      <td>No</td>\n",
       "      <td>No</td>\n",
       "      <td>Yes</td>\n",
       "      <td>No</td>\n",
       "    </tr>\n",
       "    <tr>\n",
       "      <th>1</th>\n",
       "      <td>1043384</td>\n",
       "      <td>2.0</td>\n",
       "      <td>9.0</td>\n",
       "      <td>0.0</td>\n",
       "      <td>0.0</td>\n",
       "      <td>0.0</td>\n",
       "      <td>0.0</td>\n",
       "      <td>0.0</td>\n",
       "      <td>0.99</td>\n",
       "      <td>0.99</td>\n",
       "      <td>No</td>\n",
       "      <td>No</td>\n",
       "      <td>Yes</td>\n",
       "      <td>No</td>\n",
       "    </tr>\n",
       "    <tr>\n",
       "      <th>2</th>\n",
       "      <td>1043696</td>\n",
       "      <td>2.0</td>\n",
       "      <td>8.0</td>\n",
       "      <td>0.0</td>\n",
       "      <td>0.0</td>\n",
       "      <td>0.0</td>\n",
       "      <td>0.0</td>\n",
       "      <td>0.0</td>\n",
       "      <td>0.84</td>\n",
       "      <td>0.83</td>\n",
       "      <td>Yes</td>\n",
       "      <td>No</td>\n",
       "      <td>Yes</td>\n",
       "      <td>No</td>\n",
       "    </tr>\n",
       "    <tr>\n",
       "      <th>3</th>\n",
       "      <td>1043852</td>\n",
       "      <td>7.0</td>\n",
       "      <td>8.0</td>\n",
       "      <td>0.0</td>\n",
       "      <td>0.0</td>\n",
       "      <td>0.0</td>\n",
       "      <td>0.0</td>\n",
       "      <td>1.0</td>\n",
       "      <td>0.10</td>\n",
       "      <td>0.13</td>\n",
       "      <td>No</td>\n",
       "      <td>No</td>\n",
       "      <td>Yes</td>\n",
       "      <td>No</td>\n",
       "    </tr>\n",
       "    <tr>\n",
       "      <th>4</th>\n",
       "      <td>1044048</td>\n",
       "      <td>8.0</td>\n",
       "      <td>8.0</td>\n",
       "      <td>0.0</td>\n",
       "      <td>0.0</td>\n",
       "      <td>0.0</td>\n",
       "      <td>4.0</td>\n",
       "      <td>2.0</td>\n",
       "      <td>0.84</td>\n",
       "      <td>0.83</td>\n",
       "      <td>Yes</td>\n",
       "      <td>No</td>\n",
       "      <td>Yes</td>\n",
       "      <td>No</td>\n",
       "    </tr>\n",
       "  </tbody>\n",
       "</table>\n",
       "</div>"
      ],
      "text/plain": [
       "   product_id  current_inventory  transit_duration  prior_sales_1_month  \\\n",
       "0     1026827                0.0               8.0                  0.0   \n",
       "1     1043384                2.0               9.0                  0.0   \n",
       "2     1043696                2.0               8.0                  0.0   \n",
       "3     1043852                7.0               8.0                  0.0   \n",
       "4     1044048                8.0               8.0                  0.0   \n",
       "\n",
       "   prior_sales_3_month  prior_sales_6_month  prior_sales_9_month  \\\n",
       "0                  0.0                  0.0                  0.0   \n",
       "1                  0.0                  0.0                  0.0   \n",
       "2                  0.0                  0.0                  0.0   \n",
       "3                  0.0                  0.0                  0.0   \n",
       "4                  0.0                  0.0                  4.0   \n",
       "\n",
       "   minimum_recommended_stock  source_performance_6_months  \\\n",
       "0                        0.0                         0.84   \n",
       "1                        0.0                         0.99   \n",
       "2                        0.0                         0.84   \n",
       "3                        1.0                         0.10   \n",
       "4                        2.0                         0.84   \n",
       "\n",
       "   source_performance_12_months deck_risk ppap_risk stop_auto_buy  \\\n",
       "0                          0.83        No        No           Yes   \n",
       "1                          0.99        No        No           Yes   \n",
       "2                          0.83       Yes        No           Yes   \n",
       "3                          0.13        No        No           Yes   \n",
       "4                          0.83       Yes        No           Yes   \n",
       "\n",
       "  went_on_backorder  \n",
       "0                No  \n",
       "1                No  \n",
       "2                No  \n",
       "3                No  \n",
       "4                No  "
      ]
     },
     "execution_count": 18,
     "metadata": {},
     "output_type": "execute_result"
    }
   ],
   "source": [
    "#Read and validate the previously cleaned file\n",
    "df = pd.read_csv('../Backorder_clean_withTransitOutlier.csv')\n",
    "df.head()\n"
   ]
  },
  {
   "cell_type": "code",
   "execution_count": 20,
   "metadata": {},
   "outputs": [
    {
     "data": {
      "text/plain": [
       "((1687832, 14), (1687832,))"
      ]
     },
     "execution_count": 20,
     "metadata": {},
     "output_type": "execute_result"
    }
   ],
   "source": [
    "# Prepare the data for modelling\n",
    "X = pd.DataFrame(df.columns)\n",
    "X = df[df.columns]\n",
    "y =df['went_on_backorder']\n",
    "X.shape , y.shape"
   ]
  },
  {
   "cell_type": "code",
   "execution_count": 21,
   "metadata": {},
   "outputs": [
    {
     "data": {
      "text/plain": [
       "((1687832, 12), (1687832,))"
      ]
     },
     "execution_count": 21,
     "metadata": {},
     "output_type": "execute_result"
    }
   ],
   "source": [
    "# Convert categorical data to numerical\n",
    "y = y.replace('Yes', 1)\n",
    "y= y.replace('No', 0)\n",
    "X['deck_risk_n']= df.deck_risk.map({'Yes':1,'No':0})\n",
    "X['ppap_risk_n']= df.ppap_risk.map({'Yes':1,'No':0})\n",
    "X['stop_auto_buy_n']= df.stop_auto_buy.map({'Yes':1,'No':0})\n",
    "X = X.drop(['went_on_backorder','deck_risk', 'ppap_risk', 'stop_auto_buy','product_id'], axis=1, errors='ignore')\n",
    "X.shape, y.shape"
   ]
  },
  {
   "cell_type": "code",
   "execution_count": 22,
   "metadata": {},
   "outputs": [
    {
     "data": {
      "text/plain": [
       "((337566, 12), (337566,), (1350266, 12), (1350266,))"
      ]
     },
     "execution_count": 22,
     "metadata": {},
     "output_type": "execute_result"
    }
   ],
   "source": [
    "#get 20% sample data \n",
    "X_sample, X_data,  y_sample, y_data = train_test_split(X, y, test_size=.80, random_state=42) \n",
    "X_sample.shape , y_sample.shape, X_data.shape, y_data.shape"
   ]
  },
  {
   "cell_type": "code",
   "execution_count": 23,
   "metadata": {},
   "outputs": [
    {
     "data": {
      "text/plain": [
       "((236296, 12), (101270, 12))"
      ]
     },
     "execution_count": 23,
     "metadata": {},
     "output_type": "execute_result"
    }
   ],
   "source": [
    "          \n",
    "X_train, X_test, y_train, y_test = train_test_split(X_sample, y_sample, test_size=0.30, random_state=42)\n",
    "X_train.shape, X_test.shape"
   ]
  },
  {
   "cell_type": "markdown",
   "metadata": {},
   "source": [
    "# Train KNN model with default parameters on 20% sample data"
   ]
  },
  {
   "cell_type": "code",
   "execution_count": 24,
   "metadata": {},
   "outputs": [
    {
     "name": "stdout",
     "output_type": "stream",
     "text": [
      "             precision    recall  f1-score   support\n",
      "\n",
      "          0       0.99      1.00      1.00    100645\n",
      "          1       0.15      0.01      0.01       625\n",
      "\n",
      "avg / total       0.99      0.99      0.99    101270\n",
      "\n"
     ]
    }
   ],
   "source": [
    "# KNN Classifier\n",
    "steps = [('scaler', StandardScaler()),\n",
    "         ('knn', KNeighborsClassifier(n_jobs=-1))]\n",
    "#Create the pipeline: pipeline \n",
    "pipeline_knn = Pipeline(steps)\n",
    "\n",
    "# Fit to the training set\n",
    "pipeline_knn.fit(X_train, y_train)\n",
    "knn_prediction = pipeline_knn.predict( X_test )\n",
    "# get the classification report\n",
    "knn_report = classification_report( y_test, knn_prediction )\n",
    "#print the report\n",
    "print(knn_report)\n",
    "   "
   ]
  },
  {
   "cell_type": "markdown",
   "metadata": {},
   "source": [
    "# Train LinearSvc model with default parameters on 20% sample data"
   ]
  },
  {
   "cell_type": "code",
   "execution_count": 27,
   "metadata": {},
   "outputs": [
    {
     "name": "stdout",
     "output_type": "stream",
     "text": [
      "             precision    recall  f1-score   support\n",
      "\n",
      "          0       1.00      0.74      0.85    100645\n",
      "          1       0.01      0.58      0.03       625\n",
      "\n",
      "avg / total       0.99      0.73      0.84    101270\n",
      "\n"
     ]
    }
   ],
   "source": [
    "# Train default LinearSV on 20% of the data\n",
    "steps = [('scaler', StandardScaler()),\n",
    "         ('svclinear', svm.LinearSVC(class_weight='balanced'))]\n",
    "#Create the pipeline: pipeline \n",
    "pipeline_svclinear = Pipeline(steps)\n",
    "\n",
    "# Fit to the training set\n",
    "pipeline_svclinear.fit(X_train, y_train)\n",
    "svclinear_prediction = pipeline_svclinear.predict( X_test )\n",
    "# get the classification report\n",
    "svclinear_report = classification_report( y_test, svclinear_prediction )\n",
    "#print the report\n",
    "print(svclinear_report)"
   ]
  },
  {
   "cell_type": "markdown",
   "metadata": {},
   "source": [
    "# Train SVC model with default parameters on 20% sample data"
   ]
  },
  {
   "cell_type": "code",
   "execution_count": 28,
   "metadata": {},
   "outputs": [
    {
     "name": "stdout",
     "output_type": "stream",
     "text": [
      "             precision    recall  f1-score   support\n",
      "\n",
      "          0       1.00      0.68      0.81    100645\n",
      "          1       0.01      0.58      0.02       625\n",
      "\n",
      "avg / total       0.99      0.68      0.80    101270\n",
      "\n"
     ]
    }
   ],
   "source": [
    "# Train default SVC on 10% of the date and get basic rsult\n",
    "steps = [('scaler', StandardScaler()),\n",
    "         ('svc', svm.SVC(class_weight='balanced'))]\n",
    "#Create the pipeline: pipeline \n",
    "pipeline_svc = Pipeline(steps)\n",
    "\n",
    "# Fit to the training set\n",
    "pipeline_svc.fit(X_train, y_train)\n",
    "svc_prediction = pipeline_svc.predict( X_test )\n",
    "# get the classification report\n",
    "svc_report = classification_report( y_test, svc_prediction )\n",
    "#print the report\n",
    "print(svc_report)"
   ]
  },
  {
   "cell_type": "markdown",
   "metadata": {},
   "source": [
    "# Train LogisticRegression model with default parameters on 20% sample data"
   ]
  },
  {
   "cell_type": "code",
   "execution_count": 29,
   "metadata": {},
   "outputs": [
    {
     "name": "stdout",
     "output_type": "stream",
     "text": [
      "             precision    recall  f1-score   support\n",
      "\n",
      "          0       1.00      0.63      0.77    100645\n",
      "          1       0.01      0.77      0.03       625\n",
      "\n",
      "avg / total       0.99      0.63      0.77    101270\n",
      "\n"
     ]
    }
   ],
   "source": [
    "# Train default LogisticRegression on 20% of the data\n",
    "steps = [('scaler', StandardScaler()),\n",
    "         ('logreg', LogisticRegression(class_weight='balanced'))]\n",
    "#Create the pipeline: pipeline \n",
    "pipeline_logreg = Pipeline(steps)\n",
    "\n",
    "# Fit to the training set\n",
    "pipeline_logreg.fit(X_train, y_train)\n",
    "logreg_prediction = pipeline_logreg.predict( X_test )\n",
    "# get the classification report\n",
    "logreg_report = classification_report(y_test, logreg_prediction )\n",
    "#print the report\n",
    "print(logreg_report)"
   ]
  },
  {
   "cell_type": "markdown",
   "metadata": {},
   "source": [
    "# Train RandomForestClassifier model with default parameters on 20% sample data"
   ]
  },
  {
   "cell_type": "code",
   "execution_count": 30,
   "metadata": {},
   "outputs": [
    {
     "name": "stdout",
     "output_type": "stream",
     "text": [
      "             precision    recall  f1-score   support\n",
      "\n",
      "          0       0.99      1.00      1.00    100645\n",
      "          1       0.47      0.06      0.10       625\n",
      "\n",
      "avg / total       0.99      0.99      0.99    101270\n",
      "\n"
     ]
    }
   ],
   "source": [
    "# Train default RandomForest on 20% of the data\n",
    "rfmodel= RandomForestClassifier(random_state = 32)\n",
    "# Fit to the training set\n",
    "rfmodel.fit(X_train, y_train)\n",
    "rfmodel_prediction = rfmodel.predict( X_test )\n",
    "# get the classification report\n",
    "rfmodel_report = classification_report(y_test, rfmodel_prediction )\n",
    "#print the report\n",
    "print(rfmodel_report)"
   ]
  },
  {
   "cell_type": "markdown",
   "metadata": {},
   "source": [
    "# Train GradientBoostingClassifier model with default parameters on 20% sample data"
   ]
  },
  {
   "cell_type": "code",
   "execution_count": 31,
   "metadata": {},
   "outputs": [
    {
     "name": "stdout",
     "output_type": "stream",
     "text": [
      "             precision    recall  f1-score   support\n",
      "\n",
      "          0       0.99      1.00      1.00    100645\n",
      "          1       0.26      0.02      0.03       625\n",
      "\n",
      "avg / total       0.99      0.99      0.99    101270\n",
      "\n"
     ]
    }
   ],
   "source": [
    "# Train default Ra on 20% of the data\n",
    "gbmodel= GradientBoostingClassifier(random_state = 32)\n",
    "# Fit to the training set\n",
    "gbmodel.fit(X_train, y_train)\n",
    "gbmodel_prediction = gbmodel.predict( X_test )\n",
    "# get the classification report\n",
    "gbmodel_report = classification_report(y_test, gbmodel_prediction )\n",
    "#print the report\n",
    "print(gbmodel_report)\n"
   ]
  },
  {
   "cell_type": "markdown",
   "metadata": {},
   "source": [
    "# Train AdaBoostClassifier model with default parameters on 20% sample data"
   ]
  },
  {
   "cell_type": "code",
   "execution_count": 32,
   "metadata": {},
   "outputs": [
    {
     "name": "stdout",
     "output_type": "stream",
     "text": [
      "             precision    recall  f1-score   support\n",
      "\n",
      "          0       0.99      1.00      1.00    100645\n",
      "          1       0.21      0.03      0.06       625\n",
      "\n",
      "avg / total       0.99      0.99      0.99    101270\n",
      "\n"
     ]
    }
   ],
   "source": [
    "# Train default Ra on 20% of the data\n",
    "abmodel= AdaBoostClassifier(random_state = 32)\n",
    "# Fit to the training set\n",
    "abmodel.fit(X_train, y_train)\n",
    "abmodel_prediction = abmodel.predict( X_test )\n",
    "# get the classification report\n",
    "abmodel_report = classification_report(y_test, abmodel_prediction )\n",
    "#print the report\n",
    "print(abmodel_report)"
   ]
  },
  {
   "cell_type": "code",
   "execution_count": 15,
   "metadata": {},
   "outputs": [
    {
     "name": "stdout",
     "output_type": "stream",
     "text": [
      "             precision    recall  f1-score   support\n",
      "\n",
      "          0       0.99      1.00      1.00    100645\n",
      "          1       0.55      0.09      0.16       625\n",
      "\n",
      "avg / total       0.99      0.99      0.99    101270\n",
      "\n"
     ]
    }
   ],
   "source": [
    "# AdaBoostClassifie with randomforest estimator\n",
    "abmodel_rf= AdaBoostClassifier(base_estimator=rfmodel,random_state = 32)\n",
    "# Fit to the training set\n",
    "abmodel_rf.fit(X_train, y_train)\n",
    "abmodel_prediction_rf = abmodel_rf.predict( X_test )\n",
    "# get the classification report\n",
    "abmodel_report_rf = classification_report(y_test, abmodel_prediction_rf )\n",
    "#print the report\n",
    "print(abmodel_report_rf)"
   ]
  },
  {
   "cell_type": "code",
   "execution_count": 45,
   "metadata": {},
   "outputs": [
    {
     "data": {
      "text/plain": [
       "current_inventory               0.149979\n",
       "source_performance_12_months    0.141107\n",
       "source_performance_6_months     0.138525\n",
       "prior_sales_9_month             0.126859\n",
       "prior_sales_6_month             0.109189\n",
       "prior_sales_3_month             0.093952\n",
       "minimum_recommended_stock       0.075333\n",
       "prior_sales_1_month             0.072217\n",
       "transit_duration                0.050091\n",
       "ppap_risk_n                     0.020528\n",
       "deck_risk_n                     0.016695\n",
       "stop_auto_buy_n                 0.005526\n",
       "dtype: float64"
      ]
     },
     "execution_count": 45,
     "metadata": {},
     "output_type": "execute_result"
    }
   ],
   "source": [
    "feature_import_rf = pd.Series(rfmodel.feature_importances_, index=X_test.columns)\n",
    "feature_import_rf.sort_values(ascending=False)"
   ]
  },
  {
   "cell_type": "code",
   "execution_count": 46,
   "metadata": {},
   "outputs": [
    {
     "data": {
      "text/plain": [
       "current_inventory               0.359186\n",
       "prior_sales_1_month             0.138473\n",
       "minimum_recommended_stock       0.099470\n",
       "prior_sales_9_month             0.095126\n",
       "prior_sales_3_month             0.090347\n",
       "source_performance_12_months    0.063806\n",
       "source_performance_6_months     0.063612\n",
       "prior_sales_6_month             0.039278\n",
       "transit_duration                0.038963\n",
       "deck_risk_n                     0.008435\n",
       "stop_auto_buy_n                 0.003280\n",
       "ppap_risk_n                     0.000023\n",
       "dtype: float64"
      ]
     },
     "execution_count": 46,
     "metadata": {},
     "output_type": "execute_result"
    }
   ],
   "source": [
    "feature_import_gb = pd.Series(gbmodel.feature_importances_, index=X_test.columns)\n",
    "feature_import_gb.sort_values(ascending=False)"
   ]
  },
  {
   "cell_type": "code",
   "execution_count": 16,
   "metadata": {},
   "outputs": [
    {
     "name": "stdout",
     "output_type": "stream",
     "text": [
      "             precision    recall  f1-score   support\n",
      "\n",
      "          0       0.99      1.00      1.00    100645\n",
      "          1       0.31      0.07      0.11       625\n",
      "\n",
      "avg / total       0.99      0.99      0.99    101270\n",
      "\n"
     ]
    }
   ],
   "source": [
    "# Train default Ra on 20% of the data\n",
    "\n",
    "abmodel_gb= AdaBoostClassifier(base_estimator=gbmodel,random_state = 32)\n",
    "# Fit to the training set\n",
    "abmodel_gb.fit(X_train, y_train)\n",
    "abmodel_prediction_gb = abmodel_gb.predict( X_test )\n",
    "# get the classification report\n",
    "abmodel_report_gb = classification_report(y_test, abmodel_prediction_gb )\n",
    "#print the report\n",
    "print(abmodel_report_gb)"
   ]
  },
  {
   "cell_type": "code",
   "execution_count": 38,
   "metadata": {},
   "outputs": [
    {
     "name": "stderr",
     "output_type": "stream",
     "text": [
      "C:\\Users\\mehrade\\AppData\\Local\\Continuum\\Anaconda3\\lib\\site-packages\\sklearn\\linear_model\\base.py:340: RuntimeWarning: overflow encountered in exp\n",
      "  np.exp(prob, prob)\n"
     ]
    },
    {
     "data": {
      "text/plain": [
       "<matplotlib.text.Text at 0xc6694a8>"
      ]
     },
     "execution_count": 38,
     "metadata": {},
     "output_type": "execute_result"
    },
    {
     "data": {
      "image/png": "[encoded data removed]",
      "text/plain": [
       "<matplotlib.figure.Figure at 0xc060160>"
      ]
     },
     "metadata": {},
     "output_type": "display_data"
    }
   ],
   "source": [
    "#plot ROC Curves\n",
    "fig , ax1 = plt.subplots(figsize=(9,9) )\n",
    "plt.plot([0, 1], [0, 1], 'k--')\n",
    "estimators =[pipeline_knn, pipeline_logreg, rfmodel, gbmodel, abmodel ]\n",
    "classifiers=['KNN', 'LogisticRegression', 'RandomForestClassifier','GradientBoostingClassifier',\n",
    "           'AdaBoostClassifier']\n",
    "colors = ['b', 'g', 'r', 'c', 'm']\n",
    "for i, estimator in enumerate(estimators):\n",
    "    y_pred_prob = estimator.predict_proba(X_test)[:,1]\n",
    "    fpr, tpr, thresholds= roc_curve(y_test, y_pred_prob)\n",
    "    plt.plot(fpr, tpr, label=classifiers[i],color=colors[i]) \n",
    "plt.xlabel('False Positive Rate')\n",
    "plt.ylabel('True Positive Rate')\n",
    "plt.legend(loc=4)\n",
    "plt.title('ROC Curve')"
   ]
  },
  {
   "cell_type": "code",
   "execution_count": 43,
   "metadata": {},
   "outputs": [
    {
     "name": "stderr",
     "output_type": "stream",
     "text": [
      "C:\\Users\\mehrade\\AppData\\Local\\Continuum\\Anaconda3\\lib\\site-packages\\sklearn\\linear_model\\base.py:340: RuntimeWarning: overflow encountered in exp\n",
      "  np.exp(prob, prob)\n"
     ]
    },
    {
     "data": {
      "text/plain": [
       "<matplotlib.text.Text at 0x32247f60>"
      ]
     },
     "execution_count": 43,
     "metadata": {},
     "output_type": "execute_result"
    },
    {
     "data": {
      "image/png": "[encoded data removed]",
      "text/plain": [
       "<matplotlib.figure.Figure at 0xc6067b8>"
      ]
     },
     "metadata": {},
     "output_type": "display_data"
    }
   ],
   "source": [
    "#plot Recall-Precision Curves\n",
    "fig , ax1 = plt.subplots(figsize=(9,9) )\n",
    "estimators =[pipeline_knn, pipeline_logreg, rfmodel, gbmodel, abmodel ]\n",
    "classifiers=['KNN', 'LogisticRegression', 'RandomForestClassifier','GradientBoostingClassifier',\n",
    "           'AdaBoostClassifier']\n",
    "colors = ['b', 'g', 'r', 'c', 'm']\n",
    "for i, estimator in enumerate(estimators):\n",
    "    y_pred_prob = estimator.predict_proba(X_test)[:,1]\n",
    "    precision, recall, _ = precision_recall_curve(y_test,y_pred_prob)\n",
    "    average_precision= average_precision_score(y_test, y_pred_prob, average=\"micro\")\n",
    "    plt.plot(recall, precision, label='%s (average=%.3f)'%(classifiers[i],average_precision), color=colors[i])\n",
    "plt.xlabel('Recall')\n",
    "plt.ylabel('Precision')\n",
    "plt.legend(loc=1)\n",
    "plt.title('Recall Precision Curve')\n",
    "\n",
    "\n"
   ]
  },
  {
   "cell_type": "markdown",
   "metadata": {},
   "source": [
    "# Conclusion\n",
    "As we can see here, **RandomForestClassifier, GradientBoostingClassifier, AdaBoostClassifier** has better precision value. I decided to tune and validate these models. \n",
    "\n",
    "Please checkout **'BackOrderPredictionModel'** jyputer nootbook.\n"
   ]
  }
 ],
 "metadata": {
  "kernelspec": {
   "display_name": "Python 3",
   "language": "python",
   "name": "python3"
  },
  "language_info": {
   "codemirror_mode": {
    "name": "ipython",
    "version": 3
   },
   "file_extension": ".py",
   "mimetype": "text/x-python",
   "name": "python",
   "nbconvert_exporter": "python",
   "pygments_lexer": "ipython3",
   "version": "3.6.1"
  }
 },
 "nbformat": 4,
 "nbformat_minor": 2
}
